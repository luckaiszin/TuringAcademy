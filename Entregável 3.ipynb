{
 "cells": [
  {
   "cell_type": "markdown",
   "id": "70ad8331",
   "metadata": {},
   "source": [
    "# Entregável 3: TurinGucci"
   ]
  },
  {
   "cell_type": "code",
   "execution_count": 1068,
   "id": "c780c3fe",
   "metadata": {},
   "outputs": [],
   "source": [
    "import numpy as np\n",
    "import pandas as pd\n",
    "import matplotlib.pyplot as plt\n",
    "import seaborn as sns"
   ]
  },
  {
   "cell_type": "markdown",
   "id": "c469d18a",
   "metadata": {},
   "source": [
    "## Dataset:"
   ]
  },
  {
   "cell_type": "markdown",
   "id": "ee18a6e8",
   "metadata": {},
   "source": [
    "1.employee_id: ID único do funcionário;\n",
    "\n",
    "2.department: departamento do funcionário;\n",
    "\n",
    "3.region: região de emprego (não ordenada);\n",
    "\n",
    "4.education: nível educacional do funcionário;\n",
    "\n",
    "5.gender: gênero do funcionário\n",
    "\n",
    "6.recruitment_channel: canal de recrutamento para o funcionário;\n",
    "\n",
    "7.no_ of_ trainings:  número de treinamentos completados em anos passados, sejam em soft skills, technical skills, etc.\n",
    "\n",
    "8.age: idade do funcionário;\n",
    "\n",
    "9.previous_ year_ rating: avaliação do funcionário para o ano anterior;\n",
    "\n",
    "10.length_ of_ service: duração do serviço em anos;\n",
    "\n",
    "11.awards_ won?: se ganhou algum prêmio em anos anteriores, recebe 1, do contrário 0;\n",
    "\n",
    "12.avg_ training_ score: pontuação média nas avaliações de treinamento atuais;\n",
    "\n",
    "13.is_promoted: (Target) recomendado ou não para promoção."
   ]
  },
  {
   "cell_type": "code",
   "execution_count": 1069,
   "id": "2301d704",
   "metadata": {},
   "outputs": [],
   "source": [
    "df = dataframe = pd.read_csv('dataset3.psv',skiprows=1,sep='|')"
   ]
  },
  {
   "cell_type": "code",
   "execution_count": 1070,
   "id": "c8ba84c9",
   "metadata": {},
   "outputs": [
    {
     "name": "stdout",
     "output_type": "stream",
     "text": [
      "<class 'pandas.core.frame.DataFrame'>\n",
      "RangeIndex: 54807 entries, 0 to 54806\n",
      "Data columns (total 13 columns):\n",
      " #   Column             Non-Null Count  Dtype  \n",
      "---  ------             --------------  -----  \n",
      " 0   65438              54807 non-null  int64  \n",
      " 1   Sales & Marketing  54807 non-null  object \n",
      " 2   region_7           54807 non-null  object \n",
      " 3   Master's & above   52398 non-null  object \n",
      " 4   f                  54807 non-null  object \n",
      " 5   sourcing           54807 non-null  object \n",
      " 6   1.0                49961 non-null  float64\n",
      " 7   35                 54807 non-null  int64  \n",
      " 8   5.0                50683 non-null  float64\n",
      " 9   8                  54807 non-null  int64  \n",
      " 10  0                  54807 non-null  int64  \n",
      " 11  49.0               47349 non-null  float64\n",
      " 12  0.1                54807 non-null  int64  \n",
      "dtypes: float64(3), int64(5), object(5)\n",
      "memory usage: 5.4+ MB\n"
     ]
    }
   ],
   "source": [
    "df.info()"
   ]
  },
  {
   "cell_type": "markdown",
   "id": "e477e029",
   "metadata": {},
   "source": [
    "Os títulos das colunas estão pouco intuítivos"
   ]
  },
  {
   "cell_type": "code",
   "execution_count": 1071,
   "id": "be82b6db",
   "metadata": {},
   "outputs": [],
   "source": [
    "df.rename(columns = {'65438':'employee_id'}, inplace = True)\n",
    "df.rename(columns = {'Sales & Marketing':'department'}, inplace = True)\n",
    "df.rename(columns = {'region_7':'region'}, inplace = True)\n",
    "df.rename(columns = {\"Master's & above\":'education'}, inplace = True)\n",
    "df.rename(columns = {\"f\":'gender'}, inplace = True)\n",
    "df.rename(columns = {\"sourcing\":'recruitment_channel'}, inplace = True)\n",
    "df.rename(columns = {\"1.0\":'no_ of_ trainings'}, inplace = True)\n",
    "df.rename(columns = {\"35\":'age'}, inplace = True)\n",
    "df.rename(columns = {\"5.0\":'previous_ year_ rating'}, inplace = True)\n",
    "df.rename(columns = {\"8\":'length_ of_ service'}, inplace = True)\n",
    "df.rename(columns = {\"0\":'awards_ won?'}, inplace = True)\n",
    "df.rename(columns = {\"49.0\":'avg_ training_ score'}, inplace = True)\n",
    "df.rename(columns = {\"0.1\":'is_promoted'}, inplace = True)"
   ]
  },
  {
   "cell_type": "code",
   "execution_count": 1072,
   "id": "1c2afaf0",
   "metadata": {},
   "outputs": [
    {
     "data": {
      "text/html": [
       "<div>\n",
       "<style scoped>\n",
       "    .dataframe tbody tr th:only-of-type {\n",
       "        vertical-align: middle;\n",
       "    }\n",
       "\n",
       "    .dataframe tbody tr th {\n",
       "        vertical-align: top;\n",
       "    }\n",
       "\n",
       "    .dataframe thead th {\n",
       "        text-align: right;\n",
       "    }\n",
       "</style>\n",
       "<table border=\"1\" class=\"dataframe\">\n",
       "  <thead>\n",
       "    <tr style=\"text-align: right;\">\n",
       "      <th></th>\n",
       "      <th>employee_id</th>\n",
       "      <th>department</th>\n",
       "      <th>region</th>\n",
       "      <th>education</th>\n",
       "      <th>gender</th>\n",
       "      <th>recruitment_channel</th>\n",
       "      <th>no_ of_ trainings</th>\n",
       "      <th>age</th>\n",
       "      <th>previous_ year_ rating</th>\n",
       "      <th>length_ of_ service</th>\n",
       "      <th>awards_ won?</th>\n",
       "      <th>avg_ training_ score</th>\n",
       "      <th>is_promoted</th>\n",
       "    </tr>\n",
       "  </thead>\n",
       "  <tbody>\n",
       "    <tr>\n",
       "      <th>0</th>\n",
       "      <td>65141</td>\n",
       "      <td>Operations</td>\n",
       "      <td>region_22</td>\n",
       "      <td>Bachelor's</td>\n",
       "      <td>m</td>\n",
       "      <td>other</td>\n",
       "      <td>1.0</td>\n",
       "      <td>30</td>\n",
       "      <td>5.0</td>\n",
       "      <td>4</td>\n",
       "      <td>0</td>\n",
       "      <td>60.0</td>\n",
       "      <td>0</td>\n",
       "    </tr>\n",
       "    <tr>\n",
       "      <th>1</th>\n",
       "      <td>7513</td>\n",
       "      <td>Sales &amp; Marketing</td>\n",
       "      <td>region_19</td>\n",
       "      <td>Bachelor's</td>\n",
       "      <td>m</td>\n",
       "      <td>sourcing</td>\n",
       "      <td>1.0</td>\n",
       "      <td>34</td>\n",
       "      <td>3.0</td>\n",
       "      <td>7</td>\n",
       "      <td>0</td>\n",
       "      <td>50.0</td>\n",
       "      <td>0</td>\n",
       "    </tr>\n",
       "    <tr>\n",
       "      <th>2</th>\n",
       "      <td>2542</td>\n",
       "      <td>Sales &amp; Marketing</td>\n",
       "      <td>region_23</td>\n",
       "      <td>Bachelor's</td>\n",
       "      <td>m</td>\n",
       "      <td>other</td>\n",
       "      <td>2.0</td>\n",
       "      <td>39</td>\n",
       "      <td>1.0</td>\n",
       "      <td>10</td>\n",
       "      <td>0</td>\n",
       "      <td>50.0</td>\n",
       "      <td>0</td>\n",
       "    </tr>\n",
       "    <tr>\n",
       "      <th>3</th>\n",
       "      <td>48945</td>\n",
       "      <td>Technology</td>\n",
       "      <td>region_26</td>\n",
       "      <td>Bachelor's</td>\n",
       "      <td>m</td>\n",
       "      <td>other</td>\n",
       "      <td>1.0</td>\n",
       "      <td>45</td>\n",
       "      <td>3.0</td>\n",
       "      <td>2</td>\n",
       "      <td>0</td>\n",
       "      <td>73.0</td>\n",
       "      <td>0</td>\n",
       "    </tr>\n",
       "    <tr>\n",
       "      <th>4</th>\n",
       "      <td>58896</td>\n",
       "      <td>Analytics</td>\n",
       "      <td>region_2</td>\n",
       "      <td>Bachelor's</td>\n",
       "      <td>m</td>\n",
       "      <td>sourcing</td>\n",
       "      <td>2.0</td>\n",
       "      <td>31</td>\n",
       "      <td>3.0</td>\n",
       "      <td>7</td>\n",
       "      <td>0</td>\n",
       "      <td>85.0</td>\n",
       "      <td>0</td>\n",
       "    </tr>\n",
       "  </tbody>\n",
       "</table>\n",
       "</div>"
      ],
      "text/plain": [
       "   employee_id         department     region   education gender  \\\n",
       "0        65141         Operations  region_22  Bachelor's      m   \n",
       "1         7513  Sales & Marketing  region_19  Bachelor's      m   \n",
       "2         2542  Sales & Marketing  region_23  Bachelor's      m   \n",
       "3        48945         Technology  region_26  Bachelor's      m   \n",
       "4        58896          Analytics   region_2  Bachelor's      m   \n",
       "\n",
       "  recruitment_channel  no_ of_ trainings  age  previous_ year_ rating  \\\n",
       "0               other                1.0   30                     5.0   \n",
       "1            sourcing                1.0   34                     3.0   \n",
       "2               other                2.0   39                     1.0   \n",
       "3               other                1.0   45                     3.0   \n",
       "4            sourcing                2.0   31                     3.0   \n",
       "\n",
       "   length_ of_ service  awards_ won?  avg_ training_ score  is_promoted  \n",
       "0                    4             0                  60.0            0  \n",
       "1                    7             0                  50.0            0  \n",
       "2                   10             0                  50.0            0  \n",
       "3                    2             0                  73.0            0  \n",
       "4                    7             0                  85.0            0  "
      ]
     },
     "execution_count": 1072,
     "metadata": {},
     "output_type": "execute_result"
    }
   ],
   "source": [
    "df.head()"
   ]
  },
  {
   "cell_type": "markdown",
   "id": "3b40c2d5",
   "metadata": {},
   "source": [
    "## Limpeza de dados"
   ]
  },
  {
   "cell_type": "markdown",
   "id": "da3b8f05",
   "metadata": {},
   "source": [
    "### Lidando com os dados categóricos"
   ]
  },
  {
   "cell_type": "markdown",
   "id": "c95f6a26",
   "metadata": {},
   "source": [
    "Possuímos 5 tipos de dados categóricos"
   ]
  },
  {
   "cell_type": "code",
   "execution_count": 1073,
   "id": "85f8ad79",
   "metadata": {},
   "outputs": [
    {
     "data": {
      "text/html": [
       "<div>\n",
       "<style scoped>\n",
       "    .dataframe tbody tr th:only-of-type {\n",
       "        vertical-align: middle;\n",
       "    }\n",
       "\n",
       "    .dataframe tbody tr th {\n",
       "        vertical-align: top;\n",
       "    }\n",
       "\n",
       "    .dataframe thead th {\n",
       "        text-align: right;\n",
       "    }\n",
       "</style>\n",
       "<table border=\"1\" class=\"dataframe\">\n",
       "  <thead>\n",
       "    <tr style=\"text-align: right;\">\n",
       "      <th></th>\n",
       "      <th>department</th>\n",
       "      <th>region</th>\n",
       "      <th>education</th>\n",
       "      <th>gender</th>\n",
       "      <th>recruitment_channel</th>\n",
       "    </tr>\n",
       "  </thead>\n",
       "  <tbody>\n",
       "    <tr>\n",
       "      <th>count</th>\n",
       "      <td>54807</td>\n",
       "      <td>54807</td>\n",
       "      <td>52398</td>\n",
       "      <td>54807</td>\n",
       "      <td>54807</td>\n",
       "    </tr>\n",
       "    <tr>\n",
       "      <th>unique</th>\n",
       "      <td>10</td>\n",
       "      <td>35</td>\n",
       "      <td>3</td>\n",
       "      <td>5</td>\n",
       "      <td>3</td>\n",
       "    </tr>\n",
       "    <tr>\n",
       "      <th>top</th>\n",
       "      <td>Sales &amp; Marketing</td>\n",
       "      <td>region_2</td>\n",
       "      <td>Bachelor's</td>\n",
       "      <td>m</td>\n",
       "      <td>other</td>\n",
       "    </tr>\n",
       "    <tr>\n",
       "      <th>freq</th>\n",
       "      <td>16839</td>\n",
       "      <td>12343</td>\n",
       "      <td>36669</td>\n",
       "      <td>35010</td>\n",
       "      <td>30446</td>\n",
       "    </tr>\n",
       "  </tbody>\n",
       "</table>\n",
       "</div>"
      ],
      "text/plain": [
       "               department    region   education gender recruitment_channel\n",
       "count               54807     54807       52398  54807               54807\n",
       "unique                 10        35           3      5                   3\n",
       "top     Sales & Marketing  region_2  Bachelor's      m               other\n",
       "freq                16839     12343       36669  35010               30446"
      ]
     },
     "execution_count": 1073,
     "metadata": {},
     "output_type": "execute_result"
    }
   ],
   "source": [
    "df.describe(include=['object'])"
   ]
  },
  {
   "cell_type": "markdown",
   "id": "e6bf92bb",
   "metadata": {},
   "source": [
    "Podemos observar que há 5 tipos de gênero"
   ]
  },
  {
   "cell_type": "code",
   "execution_count": 1074,
   "id": "dcbc40f0",
   "metadata": {},
   "outputs": [
    {
     "data": {
      "text/plain": [
       "array(['m', 'f', 'MALE', 'fEMALE', 'eu sou homem hetero homossexual!'],\n",
       "      dtype=object)"
      ]
     },
     "execution_count": 1074,
     "metadata": {},
     "output_type": "execute_result"
    }
   ],
   "source": [
    "df['gender'].unique()"
   ]
  },
  {
   "cell_type": "markdown",
   "id": "34bba802",
   "metadata": {},
   "source": [
    "Como male e female são do mesmo tipo que m e f, respectivamente, eles podem ser trocados, assim como a orientação sexual pode ser trocada por seu respectivo gênero."
   ]
  },
  {
   "cell_type": "code",
   "execution_count": 1075,
   "id": "e91130ef",
   "metadata": {},
   "outputs": [],
   "source": [
    "df[\"gender\"].replace(\"male\", \"m\", inplace=True)\n",
    "df[\"gender\"].replace(\"female\", \"f\", inplace=True)\n",
    "df[\"gender\"].replace(\"MALE\", \"m\", inplace=True)\n",
    "df[\"gender\"].replace(\"fEMALE\", \"f\", inplace=True)\n",
    "df[\"gender\"].replace(\"eu sou homem hetero homossexual!\", \"m\", inplace=True)"
   ]
  },
  {
   "cell_type": "code",
   "execution_count": 1076,
   "id": "8516971c",
   "metadata": {},
   "outputs": [
    {
     "data": {
      "text/plain": [
       "array(['m', 'f'], dtype=object)"
      ]
     },
     "execution_count": 1076,
     "metadata": {},
     "output_type": "execute_result"
    }
   ],
   "source": [
    "df['gender'].unique()"
   ]
  },
  {
   "cell_type": "code",
   "execution_count": 1077,
   "id": "ebe0d948",
   "metadata": {},
   "outputs": [
    {
     "data": {
      "text/plain": [
       "array(['Operations', 'Sales & Marketing', 'Technology', 'Analytics',\n",
       "       'R&D', 'Procurement', 'Finance', 'HR', 'Legal',\n",
       "       'quem trouxe quenga'], dtype=object)"
      ]
     },
     "execution_count": 1077,
     "metadata": {},
     "output_type": "execute_result"
    }
   ],
   "source": [
    "df['department'].unique()"
   ]
  },
  {
   "cell_type": "markdown",
   "id": "2aeae32d",
   "metadata": {},
   "source": [
    "Podemos ver que há um valor de variável irregular: 'quem trouxe quenga'"
   ]
  },
  {
   "cell_type": "markdown",
   "id": "69c71854",
   "metadata": {},
   "source": [
    "Podemos desconsiderar esse valor:"
   ]
  },
  {
   "cell_type": "code",
   "execution_count": 1078,
   "id": "7ccffa38",
   "metadata": {},
   "outputs": [],
   "source": [
    "df.drop(df[df['department'] == 'quem trouxe quenga'].index, inplace = True)"
   ]
  },
  {
   "cell_type": "code",
   "execution_count": 1079,
   "id": "cbf09c3f",
   "metadata": {},
   "outputs": [
    {
     "data": {
      "text/plain": [
       "array(['region_22', 'region_19', 'region_23', 'region_26', 'region_2',\n",
       "       'region_20', 'region_34', 'region_1', 'region_7', 'region_4',\n",
       "       'region_29', 'region_31', 'region_15', 'region_14', 'region_11',\n",
       "       'region_5', 'region_28', 'region_17', 'region_13', 'region_16',\n",
       "       'region_25', 'region_10', 'region_27', 'region_30', 'region_12',\n",
       "       'region_21', 'region_8', 'region_32', 'region_6', 'region_33',\n",
       "       'region_24', 'region_3', 'region_9', 'region_18',\n",
       "       'casa da lu na suecia'], dtype=object)"
      ]
     },
     "execution_count": 1079,
     "metadata": {},
     "output_type": "execute_result"
    }
   ],
   "source": [
    "df['region'].unique()"
   ]
  },
  {
   "cell_type": "markdown",
   "id": "59a5e940",
   "metadata": {},
   "source": [
    "A categoria 'region' também possui um valor irregular: 'casa da lu na suecia'"
   ]
  },
  {
   "cell_type": "code",
   "execution_count": 1080,
   "id": "42b9ff2b",
   "metadata": {},
   "outputs": [],
   "source": [
    "df.drop(df[df['region'] == 'casa da lu na suecia'].index, inplace = True)"
   ]
  },
  {
   "cell_type": "code",
   "execution_count": 1081,
   "id": "e3cebf61",
   "metadata": {},
   "outputs": [
    {
     "data": {
      "text/plain": [
       "array([\"Bachelor's\", \"Master's & above\", nan, 'Below Secondary'],\n",
       "      dtype=object)"
      ]
     },
     "execution_count": 1081,
     "metadata": {},
     "output_type": "execute_result"
    }
   ],
   "source": [
    "df['education'].unique()"
   ]
  },
  {
   "cell_type": "markdown",
   "id": "97e80416",
   "metadata": {},
   "source": [
    "A variável educação possui dados faltantes"
   ]
  },
  {
   "cell_type": "code",
   "execution_count": 1082,
   "id": "6a3c29de",
   "metadata": {},
   "outputs": [
    {
     "data": {
      "text/plain": [
       "2409"
      ]
     },
     "execution_count": 1082,
     "metadata": {},
     "output_type": "execute_result"
    }
   ],
   "source": [
    "df['education'].isna().sum()"
   ]
  },
  {
   "cell_type": "markdown",
   "id": "a08c83e6",
   "metadata": {},
   "source": [
    "Dos cerca dos 54807 dados iniciais, 2409 possuem dados faltantes"
   ]
  },
  {
   "cell_type": "code",
   "execution_count": 1083,
   "id": "937ab6cd",
   "metadata": {},
   "outputs": [],
   "source": [
    "df.dropna(subset = ['education'] ,inplace = True)"
   ]
  },
  {
   "cell_type": "code",
   "execution_count": 1084,
   "id": "10fab95d",
   "metadata": {},
   "outputs": [
    {
     "data": {
      "text/plain": [
       "0"
      ]
     },
     "execution_count": 1084,
     "metadata": {},
     "output_type": "execute_result"
    }
   ],
   "source": [
    "df['education'].isna().sum()"
   ]
  },
  {
   "cell_type": "code",
   "execution_count": 1085,
   "id": "f12ab32b",
   "metadata": {},
   "outputs": [
    {
     "data": {
      "text/plain": [
       "array(['other', 'sourcing', 'referred'], dtype=object)"
      ]
     },
     "execution_count": 1085,
     "metadata": {},
     "output_type": "execute_result"
    }
   ],
   "source": [
    "df['recruitment_channel'].unique()"
   ]
  },
  {
   "cell_type": "markdown",
   "id": "456a25bc",
   "metadata": {},
   "source": [
    "A categoria de recrutamento possui valores do tipo 'other'(outros), que é pouco informativa"
   ]
  },
  {
   "cell_type": "code",
   "execution_count": 1086,
   "id": "3c657289",
   "metadata": {},
   "outputs": [
    {
     "data": {
      "image/png": "[encoded data removed]",
      "text/plain": [
       "<Figure size 504x360 with 1 Axes>"
      ]
     },
     "metadata": {
      "needs_background": "light"
     },
     "output_type": "display_data"
    }
   ],
   "source": [
    "plt.figure(figsize=(7,5))\n",
    "sns.countplot(x=df['recruitment_channel'])\n",
    "plt.show()"
   ]
  },
  {
   "cell_type": "markdown",
   "id": "3127880d",
   "metadata": {},
   "source": [
    "Esse valor é maioria no dataset,como a análise desse feature consciste em classifição binária(Ou foi por recrutamento ou não), não será útil na análise."
   ]
  },
  {
   "cell_type": "code",
   "execution_count": 1087,
   "id": "d50c8423",
   "metadata": {},
   "outputs": [],
   "source": [
    "df.drop(df[df['recruitment_channel'] == 'other'].index, inplace=True)"
   ]
  },
  {
   "cell_type": "markdown",
   "id": "ad84618d",
   "metadata": {},
   "source": [
    "## Lidando com os dados numéricos"
   ]
  },
  {
   "cell_type": "code",
   "execution_count": 1088,
   "id": "056df2f5",
   "metadata": {},
   "outputs": [
    {
     "name": "stdout",
     "output_type": "stream",
     "text": [
      "<class 'pandas.core.frame.DataFrame'>\n",
      "Int64Index: 23326 entries, 1 to 54802\n",
      "Data columns (total 13 columns):\n",
      " #   Column                  Non-Null Count  Dtype  \n",
      "---  ------                  --------------  -----  \n",
      " 0   employee_id             23326 non-null  int64  \n",
      " 1   department              23326 non-null  object \n",
      " 2   region                  23326 non-null  object \n",
      " 3   education               23326 non-null  object \n",
      " 4   gender                  23326 non-null  object \n",
      " 5   recruitment_channel     23326 non-null  object \n",
      " 6   no_ of_ trainings       21222 non-null  float64\n",
      " 7   age                     23326 non-null  int64  \n",
      " 8   previous_ year_ rating  21633 non-null  float64\n",
      " 9   length_ of_ service     23326 non-null  int64  \n",
      " 10  awards_ won?            23326 non-null  int64  \n",
      " 11  avg_ training_ score    20128 non-null  float64\n",
      " 12  is_promoted             23326 non-null  int64  \n",
      "dtypes: float64(3), int64(5), object(5)\n",
      "memory usage: 2.5+ MB\n"
     ]
    }
   ],
   "source": [
    "df.info()"
   ]
  },
  {
   "cell_type": "markdown",
   "id": "2ea48893",
   "metadata": {},
   "source": [
    "### Ver se temos dados faltantes"
   ]
  },
  {
   "cell_type": "code",
   "execution_count": 1089,
   "id": "284ee76e",
   "metadata": {
    "scrolled": true
   },
   "outputs": [
    {
     "data": {
      "text/plain": [
       "employee_id                  0\n",
       "department                   0\n",
       "region                       0\n",
       "education                    0\n",
       "gender                       0\n",
       "recruitment_channel          0\n",
       "no_ of_ trainings         2104\n",
       "age                          0\n",
       "previous_ year_ rating    1693\n",
       "length_ of_ service          0\n",
       "awards_ won?                 0\n",
       "avg_ training_ score      3198\n",
       "is_promoted                  0\n",
       "dtype: int64"
      ]
     },
     "execution_count": 1089,
     "metadata": {},
     "output_type": "execute_result"
    }
   ],
   "source": [
    "df.isna().sum()"
   ]
  },
  {
   "cell_type": "markdown",
   "id": "c6cc733c",
   "metadata": {},
   "source": [
    "Possuímos dados faltantes em 3 features."
   ]
  },
  {
   "cell_type": "markdown",
   "id": "ea31d22f",
   "metadata": {},
   "source": [
    "Como essas features são numéricas(float), podemos inputar valores(ex: média)"
   ]
  },
  {
   "cell_type": "code",
   "execution_count": 1090,
   "id": "22cf8886",
   "metadata": {},
   "outputs": [],
   "source": [
    "df['no_ of_ trainings'] = df['no_ of_ trainings'].fillna(df['no_ of_ trainings'].mean())"
   ]
  },
  {
   "cell_type": "code",
   "execution_count": 1091,
   "id": "95e68595",
   "metadata": {},
   "outputs": [],
   "source": [
    "df['previous_ year_ rating'] = df['previous_ year_ rating'].fillna(df['previous_ year_ rating'].mean())"
   ]
  },
  {
   "cell_type": "code",
   "execution_count": 1092,
   "id": "31d45ace",
   "metadata": {},
   "outputs": [],
   "source": [
    "df['avg_ training_ score'] = df['avg_ training_ score'].fillna(df['avg_ training_ score'].mean())"
   ]
  },
  {
   "cell_type": "code",
   "execution_count": 1093,
   "id": "c2659c29",
   "metadata": {},
   "outputs": [
    {
     "data": {
      "text/html": [
       "<div>\n",
       "<style scoped>\n",
       "    .dataframe tbody tr th:only-of-type {\n",
       "        vertical-align: middle;\n",
       "    }\n",
       "\n",
       "    .dataframe tbody tr th {\n",
       "        vertical-align: top;\n",
       "    }\n",
       "\n",
       "    .dataframe thead th {\n",
       "        text-align: right;\n",
       "    }\n",
       "</style>\n",
       "<table border=\"1\" class=\"dataframe\">\n",
       "  <thead>\n",
       "    <tr style=\"text-align: right;\">\n",
       "      <th></th>\n",
       "      <th>count</th>\n",
       "      <th>mean</th>\n",
       "      <th>std</th>\n",
       "      <th>min</th>\n",
       "      <th>25%</th>\n",
       "      <th>50%</th>\n",
       "      <th>75%</th>\n",
       "      <th>max</th>\n",
       "    </tr>\n",
       "  </thead>\n",
       "  <tbody>\n",
       "    <tr>\n",
       "      <th>employee_id</th>\n",
       "      <td>23326.0</td>\n",
       "      <td>39287.939595</td>\n",
       "      <td>22537.177207</td>\n",
       "      <td>1.0</td>\n",
       "      <td>19896.0</td>\n",
       "      <td>39426.5</td>\n",
       "      <td>58789.50000</td>\n",
       "      <td>78298.0</td>\n",
       "    </tr>\n",
       "    <tr>\n",
       "      <th>no_ of_ trainings</th>\n",
       "      <td>23326.0</td>\n",
       "      <td>1.251390</td>\n",
       "      <td>0.581156</td>\n",
       "      <td>1.0</td>\n",
       "      <td>1.0</td>\n",
       "      <td>1.0</td>\n",
       "      <td>1.25139</td>\n",
       "      <td>10.0</td>\n",
       "    </tr>\n",
       "    <tr>\n",
       "      <th>age</th>\n",
       "      <td>23326.0</td>\n",
       "      <td>288.828860</td>\n",
       "      <td>5593.098362</td>\n",
       "      <td>-32.0</td>\n",
       "      <td>29.0</td>\n",
       "      <td>33.0</td>\n",
       "      <td>39.00000</td>\n",
       "      <td>123456.0</td>\n",
       "    </tr>\n",
       "    <tr>\n",
       "      <th>previous_ year_ rating</th>\n",
       "      <td>23326.0</td>\n",
       "      <td>3.359590</td>\n",
       "      <td>1.205449</td>\n",
       "      <td>1.0</td>\n",
       "      <td>3.0</td>\n",
       "      <td>3.0</td>\n",
       "      <td>4.00000</td>\n",
       "      <td>5.0</td>\n",
       "    </tr>\n",
       "    <tr>\n",
       "      <th>length_ of_ service</th>\n",
       "      <td>23326.0</td>\n",
       "      <td>5.901783</td>\n",
       "      <td>4.248972</td>\n",
       "      <td>1.0</td>\n",
       "      <td>3.0</td>\n",
       "      <td>5.0</td>\n",
       "      <td>7.00000</td>\n",
       "      <td>37.0</td>\n",
       "    </tr>\n",
       "    <tr>\n",
       "      <th>awards_ won?</th>\n",
       "      <td>23326.0</td>\n",
       "      <td>0.021735</td>\n",
       "      <td>0.145821</td>\n",
       "      <td>0.0</td>\n",
       "      <td>0.0</td>\n",
       "      <td>0.0</td>\n",
       "      <td>0.00000</td>\n",
       "      <td>1.0</td>\n",
       "    </tr>\n",
       "    <tr>\n",
       "      <th>avg_ training_ score</th>\n",
       "      <td>23326.0</td>\n",
       "      <td>63.786566</td>\n",
       "      <td>12.489534</td>\n",
       "      <td>41.0</td>\n",
       "      <td>53.0</td>\n",
       "      <td>63.0</td>\n",
       "      <td>72.00000</td>\n",
       "      <td>99.0</td>\n",
       "    </tr>\n",
       "    <tr>\n",
       "      <th>is_promoted</th>\n",
       "      <td>23326.0</td>\n",
       "      <td>0.088399</td>\n",
       "      <td>0.283881</td>\n",
       "      <td>0.0</td>\n",
       "      <td>0.0</td>\n",
       "      <td>0.0</td>\n",
       "      <td>0.00000</td>\n",
       "      <td>1.0</td>\n",
       "    </tr>\n",
       "  </tbody>\n",
       "</table>\n",
       "</div>"
      ],
      "text/plain": [
       "                          count          mean           std   min      25%  \\\n",
       "employee_id             23326.0  39287.939595  22537.177207   1.0  19896.0   \n",
       "no_ of_ trainings       23326.0      1.251390      0.581156   1.0      1.0   \n",
       "age                     23326.0    288.828860   5593.098362 -32.0     29.0   \n",
       "previous_ year_ rating  23326.0      3.359590      1.205449   1.0      3.0   \n",
       "length_ of_ service     23326.0      5.901783      4.248972   1.0      3.0   \n",
       "awards_ won?            23326.0      0.021735      0.145821   0.0      0.0   \n",
       "avg_ training_ score    23326.0     63.786566     12.489534  41.0     53.0   \n",
       "is_promoted             23326.0      0.088399      0.283881   0.0      0.0   \n",
       "\n",
       "                            50%          75%       max  \n",
       "employee_id             39426.5  58789.50000   78298.0  \n",
       "no_ of_ trainings           1.0      1.25139      10.0  \n",
       "age                        33.0     39.00000  123456.0  \n",
       "previous_ year_ rating      3.0      4.00000       5.0  \n",
       "length_ of_ service         5.0      7.00000      37.0  \n",
       "awards_ won?                0.0      0.00000       1.0  \n",
       "avg_ training_ score       63.0     72.00000      99.0  \n",
       "is_promoted                 0.0      0.00000       1.0  "
      ]
     },
     "execution_count": 1093,
     "metadata": {},
     "output_type": "execute_result"
    }
   ],
   "source": [
    "df.describe().T"
   ]
  },
  {
   "cell_type": "markdown",
   "id": "d34ebd8d",
   "metadata": {},
   "source": [
    "Podemos observar que o id do funcionário exerce pouca relevância na análise.\n",
    "Também é possível observar que a feature 'age'(idade) possui outliers."
   ]
  },
  {
   "cell_type": "code",
   "execution_count": 1094,
   "id": "8c4d7000",
   "metadata": {},
   "outputs": [],
   "source": [
    "df.drop(columns=['employee_id'], inplace = True)"
   ]
  },
  {
   "cell_type": "code",
   "execution_count": 1095,
   "id": "5a7ad6b5",
   "metadata": {},
   "outputs": [
    {
     "data": {
      "text/html": [
       "<div>\n",
       "<style scoped>\n",
       "    .dataframe tbody tr th:only-of-type {\n",
       "        vertical-align: middle;\n",
       "    }\n",
       "\n",
       "    .dataframe tbody tr th {\n",
       "        vertical-align: top;\n",
       "    }\n",
       "\n",
       "    .dataframe thead th {\n",
       "        text-align: right;\n",
       "    }\n",
       "</style>\n",
       "<table border=\"1\" class=\"dataframe\">\n",
       "  <thead>\n",
       "    <tr style=\"text-align: right;\">\n",
       "      <th></th>\n",
       "      <th>department</th>\n",
       "      <th>region</th>\n",
       "      <th>education</th>\n",
       "      <th>gender</th>\n",
       "      <th>recruitment_channel</th>\n",
       "      <th>no_ of_ trainings</th>\n",
       "      <th>age</th>\n",
       "      <th>previous_ year_ rating</th>\n",
       "      <th>length_ of_ service</th>\n",
       "      <th>awards_ won?</th>\n",
       "      <th>avg_ training_ score</th>\n",
       "      <th>is_promoted</th>\n",
       "    </tr>\n",
       "  </thead>\n",
       "  <tbody>\n",
       "    <tr>\n",
       "      <th>1</th>\n",
       "      <td>Sales &amp; Marketing</td>\n",
       "      <td>region_19</td>\n",
       "      <td>Bachelor's</td>\n",
       "      <td>m</td>\n",
       "      <td>sourcing</td>\n",
       "      <td>1.0</td>\n",
       "      <td>34</td>\n",
       "      <td>3.0</td>\n",
       "      <td>7</td>\n",
       "      <td>0</td>\n",
       "      <td>50.0</td>\n",
       "      <td>0</td>\n",
       "    </tr>\n",
       "    <tr>\n",
       "      <th>4</th>\n",
       "      <td>Analytics</td>\n",
       "      <td>region_2</td>\n",
       "      <td>Bachelor's</td>\n",
       "      <td>m</td>\n",
       "      <td>sourcing</td>\n",
       "      <td>2.0</td>\n",
       "      <td>31</td>\n",
       "      <td>3.0</td>\n",
       "      <td>7</td>\n",
       "      <td>0</td>\n",
       "      <td>85.0</td>\n",
       "      <td>0</td>\n",
       "    </tr>\n",
       "    <tr>\n",
       "      <th>6</th>\n",
       "      <td>Operations</td>\n",
       "      <td>region_34</td>\n",
       "      <td>Master's &amp; above</td>\n",
       "      <td>m</td>\n",
       "      <td>sourcing</td>\n",
       "      <td>1.0</td>\n",
       "      <td>33</td>\n",
       "      <td>3.0</td>\n",
       "      <td>6</td>\n",
       "      <td>0</td>\n",
       "      <td>63.0</td>\n",
       "      <td>0</td>\n",
       "    </tr>\n",
       "    <tr>\n",
       "      <th>8</th>\n",
       "      <td>Sales &amp; Marketing</td>\n",
       "      <td>region_1</td>\n",
       "      <td>Master's &amp; above</td>\n",
       "      <td>m</td>\n",
       "      <td>sourcing</td>\n",
       "      <td>1.0</td>\n",
       "      <td>32</td>\n",
       "      <td>5.0</td>\n",
       "      <td>5</td>\n",
       "      <td>0</td>\n",
       "      <td>54.0</td>\n",
       "      <td>0</td>\n",
       "    </tr>\n",
       "    <tr>\n",
       "      <th>10</th>\n",
       "      <td>Sales &amp; Marketing</td>\n",
       "      <td>region_7</td>\n",
       "      <td>Bachelor's</td>\n",
       "      <td>f</td>\n",
       "      <td>sourcing</td>\n",
       "      <td>1.0</td>\n",
       "      <td>35</td>\n",
       "      <td>5.0</td>\n",
       "      <td>3</td>\n",
       "      <td>0</td>\n",
       "      <td>50.0</td>\n",
       "      <td>1</td>\n",
       "    </tr>\n",
       "  </tbody>\n",
       "</table>\n",
       "</div>"
      ],
      "text/plain": [
       "           department     region         education gender recruitment_channel  \\\n",
       "1   Sales & Marketing  region_19        Bachelor's      m            sourcing   \n",
       "4           Analytics   region_2        Bachelor's      m            sourcing   \n",
       "6          Operations  region_34  Master's & above      m            sourcing   \n",
       "8   Sales & Marketing   region_1  Master's & above      m            sourcing   \n",
       "10  Sales & Marketing   region_7        Bachelor's      f            sourcing   \n",
       "\n",
       "    no_ of_ trainings  age  previous_ year_ rating  length_ of_ service  \\\n",
       "1                 1.0   34                     3.0                    7   \n",
       "4                 2.0   31                     3.0                    7   \n",
       "6                 1.0   33                     3.0                    6   \n",
       "8                 1.0   32                     5.0                    5   \n",
       "10                1.0   35                     5.0                    3   \n",
       "\n",
       "    awards_ won?  avg_ training_ score  is_promoted  \n",
       "1              0                  50.0            0  \n",
       "4              0                  85.0            0  \n",
       "6              0                  63.0            0  \n",
       "8              0                  54.0            0  \n",
       "10             0                  50.0            1  "
      ]
     },
     "execution_count": 1095,
     "metadata": {},
     "output_type": "execute_result"
    }
   ],
   "source": [
    "df.head()"
   ]
  },
  {
   "cell_type": "code",
   "execution_count": 1096,
   "id": "249f6fca",
   "metadata": {},
   "outputs": [
    {
     "data": {
      "text/plain": [
       "<AxesSubplot:ylabel='Density'>"
      ]
     },
     "execution_count": 1096,
     "metadata": {},
     "output_type": "execute_result"
    },
    {
     "data": {
      "image/png": "[encoded data removed]",
      "text/plain": [
       "<Figure size 576x576 with 1 Axes>"
      ]
     },
     "metadata": {
      "needs_background": "light"
     },
     "output_type": "display_data"
    }
   ],
   "source": [
    "plt.figure(figsize=(8,8))\n",
    "df['age'].plot(kind='kde')"
   ]
  },
  {
   "cell_type": "markdown",
   "id": "72e3c075",
   "metadata": {},
   "source": [
    "É evidente que os outliers distorcem o gráfico, uma vez que valores discrepantes exprimem a curva."
   ]
  },
  {
   "cell_type": "code",
   "execution_count": 1097,
   "id": "eea207cd",
   "metadata": {},
   "outputs": [],
   "source": [
    "df = df.query('0<age<110')"
   ]
  },
  {
   "cell_type": "code",
   "execution_count": 1098,
   "id": "efe0ee3f",
   "metadata": {},
   "outputs": [
    {
     "data": {
      "text/plain": [
       "<AxesSubplot:ylabel='Density'>"
      ]
     },
     "execution_count": 1098,
     "metadata": {},
     "output_type": "execute_result"
    },
    {
     "data": {
      "image/png": "[encoded data removed]",
      "text/plain": [
       "<Figure size 576x576 with 1 Axes>"
      ]
     },
     "metadata": {
      "needs_background": "light"
     },
     "output_type": "display_data"
    }
   ],
   "source": [
    "plt.figure(figsize=(8,8))\n",
    "df['age'].plot(kind='kde')"
   ]
  },
  {
   "cell_type": "markdown",
   "id": "2dc48719",
   "metadata": {},
   "source": [
    "Já é possível ter uma percepção mais abrangente da feature idade."
   ]
  },
  {
   "cell_type": "markdown",
   "id": "3a7eab21",
   "metadata": {},
   "source": [
    "## Análise do conjunto"
   ]
  },
  {
   "cell_type": "markdown",
   "id": "aca5e8d2",
   "metadata": {},
   "source": [
    "Vamos observar as features que mais possuem correlação entre si."
   ]
  },
  {
   "cell_type": "code",
   "execution_count": 1099,
   "id": "0e083f53",
   "metadata": {},
   "outputs": [
    {
     "data": {
      "image/png": "[encoded data removed]",
      "text/plain": [
       "<Figure size 1080x720 with 2 Axes>"
      ]
     },
     "metadata": {
      "needs_background": "light"
     },
     "output_type": "display_data"
    }
   ],
   "source": [
    "plt.figure(figsize=(15,10))\n",
    "sns.heatmap(df.corr(), annot=True, vmin=-1, vmax=1)\n",
    "plt.show()"
   ]
  },
  {
   "cell_type": "markdown",
   "id": "dd9ee352",
   "metadata": {},
   "source": [
    "Graças ao heatmap é possível deduzir que a idade e o tempo de serviço tem alta correlação;\n",
    "Em relação ao target, a feature que mais possui correlação é a feature relacionada à já ter ganhado um prêmio, seguida por pontuações nas avaliações de treinamento, e pela avaliação do funcionário no ano anterior. As features que mais afeta inversamente o target(correlação negativa) são: Idade, Número de treinamentos e tempo de serviço. Conclui-se que os funcionários que tem mais chances de serem promovidos são os mais jovens e mais promissores."
   ]
  },
  {
   "cell_type": "markdown",
   "id": "75487fa3",
   "metadata": {},
   "source": [
    "## Modelo de Predição:"
   ]
  },
  {
   "cell_type": "markdown",
   "id": "2d7439e7",
   "metadata": {},
   "source": [
    "### Categorical encoding: One-hot encoding"
   ]
  },
  {
   "cell_type": "markdown",
   "id": "23272b56",
   "metadata": {},
   "source": [
    "Transforma as variáveis categóricas em numéricas inteiras"
   ]
  },
  {
   "cell_type": "code",
   "execution_count": 1100,
   "id": "10642913",
   "metadata": {},
   "outputs": [
    {
     "name": "stdout",
     "output_type": "stream",
     "text": [
      "Requirement already satisfied: sklearn in c:\\users\\pates\\anaconda3\\lib\\site-packages (0.0.post7)\n"
     ]
    }
   ],
   "source": [
    "!pip install sklearn"
   ]
  },
  {
   "cell_type": "code",
   "execution_count": 1101,
   "id": "51a0dd8c",
   "metadata": {},
   "outputs": [],
   "source": [
    "from sklearn.preprocessing import OneHotEncoder #dados nominais\n",
    "from sklearn.preprocessing import OrdinalEncoder #dados ordinais"
   ]
  },
  {
   "cell_type": "markdown",
   "id": "f2006163",
   "metadata": {},
   "source": [
    "Usaremos o HotEncoder para as features nominais"
   ]
  },
  {
   "cell_type": "code",
   "execution_count": 1102,
   "id": "92c209eb",
   "metadata": {},
   "outputs": [],
   "source": [
    "ohe = OneHotEncoder()"
   ]
  },
  {
   "cell_type": "code",
   "execution_count": 1103,
   "id": "1acb5787",
   "metadata": {},
   "outputs": [],
   "source": [
    "nominal_features = ['department', 'gender', 'recruitment_channel']"
   ]
  },
  {
   "cell_type": "code",
   "execution_count": 1104,
   "id": "3ebb0b3d",
   "metadata": {},
   "outputs": [],
   "source": [
    "feature_array = ohe.fit_transform(df[nominal_features]).toarray()"
   ]
  },
  {
   "cell_type": "code",
   "execution_count": 1105,
   "id": "8670e71c",
   "metadata": {},
   "outputs": [
    {
     "data": {
      "text/plain": [
       "[array(['Analytics', 'Finance', 'HR', 'Legal', 'Operations', 'Procurement',\n",
       "        'R&D', 'Sales & Marketing', 'Technology'], dtype=object),\n",
       " array(['f', 'm'], dtype=object),\n",
       " array(['referred', 'sourcing'], dtype=object)]"
      ]
     },
     "execution_count": 1105,
     "metadata": {},
     "output_type": "execute_result"
    }
   ],
   "source": [
    "ohe.categories_"
   ]
  },
  {
   "cell_type": "code",
   "execution_count": 1106,
   "id": "21f80e72",
   "metadata": {},
   "outputs": [],
   "source": [
    "feature_labels = ohe.categories_"
   ]
  },
  {
   "cell_type": "code",
   "execution_count": 1107,
   "id": "e11073b7",
   "metadata": {},
   "outputs": [
    {
     "data": {
      "text/plain": [
       "array(['Analytics', 'Finance', 'HR', 'Legal', 'Operations', 'Procurement',\n",
       "       'R&D', 'Sales & Marketing', 'Technology', 'f', 'm', 'referred',\n",
       "       'sourcing'], dtype=object)"
      ]
     },
     "execution_count": 1107,
     "metadata": {},
     "output_type": "execute_result"
    }
   ],
   "source": [
    "np.concatenate(feature_labels).ravel()"
   ]
  },
  {
   "cell_type": "code",
   "execution_count": 1108,
   "id": "bbff5e8b",
   "metadata": {},
   "outputs": [],
   "source": [
    "feature_labels = np.concatenate(feature_labels).ravel()"
   ]
  },
  {
   "cell_type": "code",
   "execution_count": 1109,
   "id": "8b248e81",
   "metadata": {},
   "outputs": [
    {
     "name": "stdout",
     "output_type": "stream",
     "text": [
      "['Analytics' 'Finance' 'HR' 'Legal' 'Operations' 'Procurement' 'R&D'\n",
      " 'Sales & Marketing' 'Technology' 'f' 'm' 'referred' 'sourcing']\n"
     ]
    }
   ],
   "source": [
    "print(feature_labels)"
   ]
  },
  {
   "cell_type": "code",
   "execution_count": 1110,
   "id": "76a46349",
   "metadata": {},
   "outputs": [],
   "source": [
    "features = pd.DataFrame(feature_array, columns = feature_labels)"
   ]
  },
  {
   "cell_type": "code",
   "execution_count": 1111,
   "id": "8cd454fb",
   "metadata": {},
   "outputs": [
    {
     "data": {
      "text/html": [
       "<div>\n",
       "<style scoped>\n",
       "    .dataframe tbody tr th:only-of-type {\n",
       "        vertical-align: middle;\n",
       "    }\n",
       "\n",
       "    .dataframe tbody tr th {\n",
       "        vertical-align: top;\n",
       "    }\n",
       "\n",
       "    .dataframe thead th {\n",
       "        text-align: right;\n",
       "    }\n",
       "</style>\n",
       "<table border=\"1\" class=\"dataframe\">\n",
       "  <thead>\n",
       "    <tr style=\"text-align: right;\">\n",
       "      <th></th>\n",
       "      <th>Analytics</th>\n",
       "      <th>Finance</th>\n",
       "      <th>HR</th>\n",
       "      <th>Legal</th>\n",
       "      <th>Operations</th>\n",
       "      <th>Procurement</th>\n",
       "      <th>R&amp;D</th>\n",
       "      <th>Sales &amp; Marketing</th>\n",
       "      <th>Technology</th>\n",
       "      <th>f</th>\n",
       "      <th>m</th>\n",
       "      <th>referred</th>\n",
       "      <th>sourcing</th>\n",
       "    </tr>\n",
       "  </thead>\n",
       "  <tbody>\n",
       "    <tr>\n",
       "      <th>0</th>\n",
       "      <td>0.0</td>\n",
       "      <td>0.0</td>\n",
       "      <td>0.0</td>\n",
       "      <td>0.0</td>\n",
       "      <td>0.0</td>\n",
       "      <td>0.0</td>\n",
       "      <td>0.0</td>\n",
       "      <td>1.0</td>\n",
       "      <td>0.0</td>\n",
       "      <td>0.0</td>\n",
       "      <td>1.0</td>\n",
       "      <td>0.0</td>\n",
       "      <td>1.0</td>\n",
       "    </tr>\n",
       "    <tr>\n",
       "      <th>1</th>\n",
       "      <td>1.0</td>\n",
       "      <td>0.0</td>\n",
       "      <td>0.0</td>\n",
       "      <td>0.0</td>\n",
       "      <td>0.0</td>\n",
       "      <td>0.0</td>\n",
       "      <td>0.0</td>\n",
       "      <td>0.0</td>\n",
       "      <td>0.0</td>\n",
       "      <td>0.0</td>\n",
       "      <td>1.0</td>\n",
       "      <td>0.0</td>\n",
       "      <td>1.0</td>\n",
       "    </tr>\n",
       "    <tr>\n",
       "      <th>2</th>\n",
       "      <td>0.0</td>\n",
       "      <td>0.0</td>\n",
       "      <td>0.0</td>\n",
       "      <td>0.0</td>\n",
       "      <td>1.0</td>\n",
       "      <td>0.0</td>\n",
       "      <td>0.0</td>\n",
       "      <td>0.0</td>\n",
       "      <td>0.0</td>\n",
       "      <td>0.0</td>\n",
       "      <td>1.0</td>\n",
       "      <td>0.0</td>\n",
       "      <td>1.0</td>\n",
       "    </tr>\n",
       "    <tr>\n",
       "      <th>3</th>\n",
       "      <td>0.0</td>\n",
       "      <td>0.0</td>\n",
       "      <td>0.0</td>\n",
       "      <td>0.0</td>\n",
       "      <td>0.0</td>\n",
       "      <td>0.0</td>\n",
       "      <td>0.0</td>\n",
       "      <td>1.0</td>\n",
       "      <td>0.0</td>\n",
       "      <td>0.0</td>\n",
       "      <td>1.0</td>\n",
       "      <td>0.0</td>\n",
       "      <td>1.0</td>\n",
       "    </tr>\n",
       "    <tr>\n",
       "      <th>4</th>\n",
       "      <td>0.0</td>\n",
       "      <td>0.0</td>\n",
       "      <td>0.0</td>\n",
       "      <td>0.0</td>\n",
       "      <td>0.0</td>\n",
       "      <td>0.0</td>\n",
       "      <td>0.0</td>\n",
       "      <td>1.0</td>\n",
       "      <td>0.0</td>\n",
       "      <td>1.0</td>\n",
       "      <td>0.0</td>\n",
       "      <td>0.0</td>\n",
       "      <td>1.0</td>\n",
       "    </tr>\n",
       "  </tbody>\n",
       "</table>\n",
       "</div>"
      ],
      "text/plain": [
       "   Analytics  Finance   HR  Legal  Operations  Procurement  R&D  \\\n",
       "0        0.0      0.0  0.0    0.0         0.0          0.0  0.0   \n",
       "1        1.0      0.0  0.0    0.0         0.0          0.0  0.0   \n",
       "2        0.0      0.0  0.0    0.0         1.0          0.0  0.0   \n",
       "3        0.0      0.0  0.0    0.0         0.0          0.0  0.0   \n",
       "4        0.0      0.0  0.0    0.0         0.0          0.0  0.0   \n",
       "\n",
       "   Sales & Marketing  Technology    f    m  referred  sourcing  \n",
       "0                1.0         0.0  0.0  1.0       0.0       1.0  \n",
       "1                0.0         0.0  0.0  1.0       0.0       1.0  \n",
       "2                0.0         0.0  0.0  1.0       0.0       1.0  \n",
       "3                1.0         0.0  0.0  1.0       0.0       1.0  \n",
       "4                1.0         0.0  1.0  0.0       0.0       1.0  "
      ]
     },
     "execution_count": 1111,
     "metadata": {},
     "output_type": "execute_result"
    }
   ],
   "source": [
    "features.head()"
   ]
  },
  {
   "cell_type": "code",
   "execution_count": 1112,
   "id": "34bfa48b",
   "metadata": {},
   "outputs": [],
   "source": [
    "df1 = pd.concat([df,features], axis = 1)"
   ]
  },
  {
   "cell_type": "code",
   "execution_count": 1113,
   "id": "f1cc3ba2",
   "metadata": {},
   "outputs": [
    {
     "data": {
      "text/html": [
       "<div>\n",
       "<style scoped>\n",
       "    .dataframe tbody tr th:only-of-type {\n",
       "        vertical-align: middle;\n",
       "    }\n",
       "\n",
       "    .dataframe tbody tr th {\n",
       "        vertical-align: top;\n",
       "    }\n",
       "\n",
       "    .dataframe thead th {\n",
       "        text-align: right;\n",
       "    }\n",
       "</style>\n",
       "<table border=\"1\" class=\"dataframe\">\n",
       "  <thead>\n",
       "    <tr style=\"text-align: right;\">\n",
       "      <th></th>\n",
       "      <th>department</th>\n",
       "      <th>region</th>\n",
       "      <th>education</th>\n",
       "      <th>gender</th>\n",
       "      <th>recruitment_channel</th>\n",
       "      <th>no_ of_ trainings</th>\n",
       "      <th>age</th>\n",
       "      <th>previous_ year_ rating</th>\n",
       "      <th>length_ of_ service</th>\n",
       "      <th>awards_ won?</th>\n",
       "      <th>...</th>\n",
       "      <th>Legal</th>\n",
       "      <th>Operations</th>\n",
       "      <th>Procurement</th>\n",
       "      <th>R&amp;D</th>\n",
       "      <th>Sales &amp; Marketing</th>\n",
       "      <th>Technology</th>\n",
       "      <th>f</th>\n",
       "      <th>m</th>\n",
       "      <th>referred</th>\n",
       "      <th>sourcing</th>\n",
       "    </tr>\n",
       "  </thead>\n",
       "  <tbody>\n",
       "    <tr>\n",
       "      <th>0</th>\n",
       "      <td>NaN</td>\n",
       "      <td>NaN</td>\n",
       "      <td>NaN</td>\n",
       "      <td>NaN</td>\n",
       "      <td>NaN</td>\n",
       "      <td>NaN</td>\n",
       "      <td>NaN</td>\n",
       "      <td>NaN</td>\n",
       "      <td>NaN</td>\n",
       "      <td>NaN</td>\n",
       "      <td>...</td>\n",
       "      <td>0.0</td>\n",
       "      <td>0.0</td>\n",
       "      <td>0.0</td>\n",
       "      <td>0.0</td>\n",
       "      <td>1.0</td>\n",
       "      <td>0.0</td>\n",
       "      <td>0.0</td>\n",
       "      <td>1.0</td>\n",
       "      <td>0.0</td>\n",
       "      <td>1.0</td>\n",
       "    </tr>\n",
       "    <tr>\n",
       "      <th>1</th>\n",
       "      <td>Sales &amp; Marketing</td>\n",
       "      <td>region_19</td>\n",
       "      <td>Bachelor's</td>\n",
       "      <td>m</td>\n",
       "      <td>sourcing</td>\n",
       "      <td>1.0</td>\n",
       "      <td>34.0</td>\n",
       "      <td>3.0</td>\n",
       "      <td>7.0</td>\n",
       "      <td>0.0</td>\n",
       "      <td>...</td>\n",
       "      <td>0.0</td>\n",
       "      <td>0.0</td>\n",
       "      <td>0.0</td>\n",
       "      <td>0.0</td>\n",
       "      <td>0.0</td>\n",
       "      <td>0.0</td>\n",
       "      <td>0.0</td>\n",
       "      <td>1.0</td>\n",
       "      <td>0.0</td>\n",
       "      <td>1.0</td>\n",
       "    </tr>\n",
       "    <tr>\n",
       "      <th>2</th>\n",
       "      <td>NaN</td>\n",
       "      <td>NaN</td>\n",
       "      <td>NaN</td>\n",
       "      <td>NaN</td>\n",
       "      <td>NaN</td>\n",
       "      <td>NaN</td>\n",
       "      <td>NaN</td>\n",
       "      <td>NaN</td>\n",
       "      <td>NaN</td>\n",
       "      <td>NaN</td>\n",
       "      <td>...</td>\n",
       "      <td>0.0</td>\n",
       "      <td>1.0</td>\n",
       "      <td>0.0</td>\n",
       "      <td>0.0</td>\n",
       "      <td>0.0</td>\n",
       "      <td>0.0</td>\n",
       "      <td>0.0</td>\n",
       "      <td>1.0</td>\n",
       "      <td>0.0</td>\n",
       "      <td>1.0</td>\n",
       "    </tr>\n",
       "    <tr>\n",
       "      <th>3</th>\n",
       "      <td>NaN</td>\n",
       "      <td>NaN</td>\n",
       "      <td>NaN</td>\n",
       "      <td>NaN</td>\n",
       "      <td>NaN</td>\n",
       "      <td>NaN</td>\n",
       "      <td>NaN</td>\n",
       "      <td>NaN</td>\n",
       "      <td>NaN</td>\n",
       "      <td>NaN</td>\n",
       "      <td>...</td>\n",
       "      <td>0.0</td>\n",
       "      <td>0.0</td>\n",
       "      <td>0.0</td>\n",
       "      <td>0.0</td>\n",
       "      <td>1.0</td>\n",
       "      <td>0.0</td>\n",
       "      <td>0.0</td>\n",
       "      <td>1.0</td>\n",
       "      <td>0.0</td>\n",
       "      <td>1.0</td>\n",
       "    </tr>\n",
       "    <tr>\n",
       "      <th>4</th>\n",
       "      <td>Analytics</td>\n",
       "      <td>region_2</td>\n",
       "      <td>Bachelor's</td>\n",
       "      <td>m</td>\n",
       "      <td>sourcing</td>\n",
       "      <td>2.0</td>\n",
       "      <td>31.0</td>\n",
       "      <td>3.0</td>\n",
       "      <td>7.0</td>\n",
       "      <td>0.0</td>\n",
       "      <td>...</td>\n",
       "      <td>0.0</td>\n",
       "      <td>0.0</td>\n",
       "      <td>0.0</td>\n",
       "      <td>0.0</td>\n",
       "      <td>1.0</td>\n",
       "      <td>0.0</td>\n",
       "      <td>1.0</td>\n",
       "      <td>0.0</td>\n",
       "      <td>0.0</td>\n",
       "      <td>1.0</td>\n",
       "    </tr>\n",
       "  </tbody>\n",
       "</table>\n",
       "<p>5 rows × 25 columns</p>\n",
       "</div>"
      ],
      "text/plain": [
       "          department     region   education gender recruitment_channel  \\\n",
       "0                NaN        NaN         NaN    NaN                 NaN   \n",
       "1  Sales & Marketing  region_19  Bachelor's      m            sourcing   \n",
       "2                NaN        NaN         NaN    NaN                 NaN   \n",
       "3                NaN        NaN         NaN    NaN                 NaN   \n",
       "4          Analytics   region_2  Bachelor's      m            sourcing   \n",
       "\n",
       "   no_ of_ trainings   age  previous_ year_ rating  length_ of_ service  \\\n",
       "0                NaN   NaN                     NaN                  NaN   \n",
       "1                1.0  34.0                     3.0                  7.0   \n",
       "2                NaN   NaN                     NaN                  NaN   \n",
       "3                NaN   NaN                     NaN                  NaN   \n",
       "4                2.0  31.0                     3.0                  7.0   \n",
       "\n",
       "   awards_ won?  ...  Legal  Operations  Procurement  R&D  Sales & Marketing  \\\n",
       "0           NaN  ...    0.0         0.0          0.0  0.0                1.0   \n",
       "1           0.0  ...    0.0         0.0          0.0  0.0                0.0   \n",
       "2           NaN  ...    0.0         1.0          0.0  0.0                0.0   \n",
       "3           NaN  ...    0.0         0.0          0.0  0.0                1.0   \n",
       "4           0.0  ...    0.0         0.0          0.0  0.0                1.0   \n",
       "\n",
       "   Technology    f    m  referred  sourcing  \n",
       "0         0.0  0.0  1.0       0.0       1.0  \n",
       "1         0.0  0.0  1.0       0.0       1.0  \n",
       "2         0.0  0.0  1.0       0.0       1.0  \n",
       "3         0.0  0.0  1.0       0.0       1.0  \n",
       "4         0.0  1.0  0.0       0.0       1.0  \n",
       "\n",
       "[5 rows x 25 columns]"
      ]
     },
     "execution_count": 1113,
     "metadata": {},
     "output_type": "execute_result"
    }
   ],
   "source": [
    "df1.head()"
   ]
  },
  {
   "cell_type": "code",
   "execution_count": 1114,
   "id": "8f3066b3",
   "metadata": {},
   "outputs": [],
   "source": [
    "df1.dropna(inplace=True)"
   ]
  },
  {
   "cell_type": "code",
   "execution_count": 1115,
   "id": "2e079968",
   "metadata": {},
   "outputs": [],
   "source": [
    "df1.drop(columns= nominal_features, inplace = True)"
   ]
  },
  {
   "cell_type": "code",
   "execution_count": 1116,
   "id": "89952630",
   "metadata": {},
   "outputs": [
    {
     "data": {
      "text/html": [
       "<div>\n",
       "<style scoped>\n",
       "    .dataframe tbody tr th:only-of-type {\n",
       "        vertical-align: middle;\n",
       "    }\n",
       "\n",
       "    .dataframe tbody tr th {\n",
       "        vertical-align: top;\n",
       "    }\n",
       "\n",
       "    .dataframe thead th {\n",
       "        text-align: right;\n",
       "    }\n",
       "</style>\n",
       "<table border=\"1\" class=\"dataframe\">\n",
       "  <thead>\n",
       "    <tr style=\"text-align: right;\">\n",
       "      <th></th>\n",
       "      <th>region</th>\n",
       "      <th>education</th>\n",
       "      <th>no_ of_ trainings</th>\n",
       "      <th>age</th>\n",
       "      <th>previous_ year_ rating</th>\n",
       "      <th>length_ of_ service</th>\n",
       "      <th>awards_ won?</th>\n",
       "      <th>avg_ training_ score</th>\n",
       "      <th>is_promoted</th>\n",
       "      <th>Analytics</th>\n",
       "      <th>...</th>\n",
       "      <th>Legal</th>\n",
       "      <th>Operations</th>\n",
       "      <th>Procurement</th>\n",
       "      <th>R&amp;D</th>\n",
       "      <th>Sales &amp; Marketing</th>\n",
       "      <th>Technology</th>\n",
       "      <th>f</th>\n",
       "      <th>m</th>\n",
       "      <th>referred</th>\n",
       "      <th>sourcing</th>\n",
       "    </tr>\n",
       "  </thead>\n",
       "  <tbody>\n",
       "    <tr>\n",
       "      <th>1</th>\n",
       "      <td>region_19</td>\n",
       "      <td>Bachelor's</td>\n",
       "      <td>1.0</td>\n",
       "      <td>34.0</td>\n",
       "      <td>3.0</td>\n",
       "      <td>7.0</td>\n",
       "      <td>0.0</td>\n",
       "      <td>50.0</td>\n",
       "      <td>0.0</td>\n",
       "      <td>1.0</td>\n",
       "      <td>...</td>\n",
       "      <td>0.0</td>\n",
       "      <td>0.0</td>\n",
       "      <td>0.0</td>\n",
       "      <td>0.0</td>\n",
       "      <td>0.0</td>\n",
       "      <td>0.0</td>\n",
       "      <td>0.0</td>\n",
       "      <td>1.0</td>\n",
       "      <td>0.0</td>\n",
       "      <td>1.0</td>\n",
       "    </tr>\n",
       "    <tr>\n",
       "      <th>4</th>\n",
       "      <td>region_2</td>\n",
       "      <td>Bachelor's</td>\n",
       "      <td>2.0</td>\n",
       "      <td>31.0</td>\n",
       "      <td>3.0</td>\n",
       "      <td>7.0</td>\n",
       "      <td>0.0</td>\n",
       "      <td>85.0</td>\n",
       "      <td>0.0</td>\n",
       "      <td>0.0</td>\n",
       "      <td>...</td>\n",
       "      <td>0.0</td>\n",
       "      <td>0.0</td>\n",
       "      <td>0.0</td>\n",
       "      <td>0.0</td>\n",
       "      <td>1.0</td>\n",
       "      <td>0.0</td>\n",
       "      <td>1.0</td>\n",
       "      <td>0.0</td>\n",
       "      <td>0.0</td>\n",
       "      <td>1.0</td>\n",
       "    </tr>\n",
       "    <tr>\n",
       "      <th>6</th>\n",
       "      <td>region_34</td>\n",
       "      <td>Master's &amp; above</td>\n",
       "      <td>1.0</td>\n",
       "      <td>33.0</td>\n",
       "      <td>3.0</td>\n",
       "      <td>6.0</td>\n",
       "      <td>0.0</td>\n",
       "      <td>63.0</td>\n",
       "      <td>0.0</td>\n",
       "      <td>0.0</td>\n",
       "      <td>...</td>\n",
       "      <td>0.0</td>\n",
       "      <td>0.0</td>\n",
       "      <td>0.0</td>\n",
       "      <td>1.0</td>\n",
       "      <td>0.0</td>\n",
       "      <td>0.0</td>\n",
       "      <td>0.0</td>\n",
       "      <td>1.0</td>\n",
       "      <td>0.0</td>\n",
       "      <td>1.0</td>\n",
       "    </tr>\n",
       "    <tr>\n",
       "      <th>8</th>\n",
       "      <td>region_1</td>\n",
       "      <td>Master's &amp; above</td>\n",
       "      <td>1.0</td>\n",
       "      <td>32.0</td>\n",
       "      <td>5.0</td>\n",
       "      <td>5.0</td>\n",
       "      <td>0.0</td>\n",
       "      <td>54.0</td>\n",
       "      <td>0.0</td>\n",
       "      <td>0.0</td>\n",
       "      <td>...</td>\n",
       "      <td>0.0</td>\n",
       "      <td>0.0</td>\n",
       "      <td>0.0</td>\n",
       "      <td>0.0</td>\n",
       "      <td>1.0</td>\n",
       "      <td>0.0</td>\n",
       "      <td>0.0</td>\n",
       "      <td>1.0</td>\n",
       "      <td>0.0</td>\n",
       "      <td>1.0</td>\n",
       "    </tr>\n",
       "    <tr>\n",
       "      <th>10</th>\n",
       "      <td>region_7</td>\n",
       "      <td>Bachelor's</td>\n",
       "      <td>1.0</td>\n",
       "      <td>35.0</td>\n",
       "      <td>5.0</td>\n",
       "      <td>3.0</td>\n",
       "      <td>0.0</td>\n",
       "      <td>50.0</td>\n",
       "      <td>1.0</td>\n",
       "      <td>0.0</td>\n",
       "      <td>...</td>\n",
       "      <td>0.0</td>\n",
       "      <td>1.0</td>\n",
       "      <td>0.0</td>\n",
       "      <td>0.0</td>\n",
       "      <td>0.0</td>\n",
       "      <td>0.0</td>\n",
       "      <td>0.0</td>\n",
       "      <td>1.0</td>\n",
       "      <td>0.0</td>\n",
       "      <td>1.0</td>\n",
       "    </tr>\n",
       "  </tbody>\n",
       "</table>\n",
       "<p>5 rows × 22 columns</p>\n",
       "</div>"
      ],
      "text/plain": [
       "       region         education  no_ of_ trainings   age  \\\n",
       "1   region_19        Bachelor's                1.0  34.0   \n",
       "4    region_2        Bachelor's                2.0  31.0   \n",
       "6   region_34  Master's & above                1.0  33.0   \n",
       "8    region_1  Master's & above                1.0  32.0   \n",
       "10   region_7        Bachelor's                1.0  35.0   \n",
       "\n",
       "    previous_ year_ rating  length_ of_ service  awards_ won?  \\\n",
       "1                      3.0                  7.0           0.0   \n",
       "4                      3.0                  7.0           0.0   \n",
       "6                      3.0                  6.0           0.0   \n",
       "8                      5.0                  5.0           0.0   \n",
       "10                     5.0                  3.0           0.0   \n",
       "\n",
       "    avg_ training_ score  is_promoted  Analytics  ...  Legal  Operations  \\\n",
       "1                   50.0          0.0        1.0  ...    0.0         0.0   \n",
       "4                   85.0          0.0        0.0  ...    0.0         0.0   \n",
       "6                   63.0          0.0        0.0  ...    0.0         0.0   \n",
       "8                   54.0          0.0        0.0  ...    0.0         0.0   \n",
       "10                  50.0          1.0        0.0  ...    0.0         1.0   \n",
       "\n",
       "    Procurement  R&D  Sales & Marketing  Technology    f    m  referred  \\\n",
       "1           0.0  0.0                0.0         0.0  0.0  1.0       0.0   \n",
       "4           0.0  0.0                1.0         0.0  1.0  0.0       0.0   \n",
       "6           0.0  1.0                0.0         0.0  0.0  1.0       0.0   \n",
       "8           0.0  0.0                1.0         0.0  0.0  1.0       0.0   \n",
       "10          0.0  0.0                0.0         0.0  0.0  1.0       0.0   \n",
       "\n",
       "    sourcing  \n",
       "1        1.0  \n",
       "4        1.0  \n",
       "6        1.0  \n",
       "8        1.0  \n",
       "10       1.0  \n",
       "\n",
       "[5 rows x 22 columns]"
      ]
     },
     "execution_count": 1116,
     "metadata": {},
     "output_type": "execute_result"
    }
   ],
   "source": [
    "df1.head()"
   ]
  },
  {
   "cell_type": "markdown",
   "id": "5ad3a458",
   "metadata": {},
   "source": [
    "### Categorical encoding: Ordinal encoding"
   ]
  },
  {
   "cell_type": "code",
   "execution_count": 1117,
   "id": "962903f2",
   "metadata": {},
   "outputs": [],
   "source": [
    "ordinal_features = ['region', 'education']"
   ]
  },
  {
   "cell_type": "code",
   "execution_count": 1118,
   "id": "fc94217c",
   "metadata": {},
   "outputs": [
    {
     "data": {
      "text/plain": [
       "[\"Bachelor's\", 'Below Secondary', \"Master's & above\"]"
      ]
     },
     "execution_count": 1118,
     "metadata": {},
     "output_type": "execute_result"
    }
   ],
   "source": [
    "sorted(df['education'].unique())"
   ]
  },
  {
   "cell_type": "code",
   "execution_count": 1119,
   "id": "16e08209",
   "metadata": {},
   "outputs": [],
   "source": [
    "ord_education = ['Below Secondary',\"Bachelor's\", \"Master's & above\" ]"
   ]
  },
  {
   "cell_type": "code",
   "execution_count": 1120,
   "id": "3aa1719f",
   "metadata": {},
   "outputs": [
    {
     "data": {
      "text/plain": [
       "['region_1',\n",
       " 'region_10',\n",
       " 'region_11',\n",
       " 'region_12',\n",
       " 'region_13',\n",
       " 'region_14',\n",
       " 'region_15',\n",
       " 'region_16',\n",
       " 'region_17',\n",
       " 'region_18',\n",
       " 'region_19',\n",
       " 'region_2',\n",
       " 'region_20',\n",
       " 'region_21',\n",
       " 'region_22',\n",
       " 'region_23',\n",
       " 'region_24',\n",
       " 'region_25',\n",
       " 'region_26',\n",
       " 'region_27',\n",
       " 'region_28',\n",
       " 'region_29',\n",
       " 'region_3',\n",
       " 'region_30',\n",
       " 'region_31',\n",
       " 'region_32',\n",
       " 'region_33',\n",
       " 'region_34',\n",
       " 'region_4',\n",
       " 'region_5',\n",
       " 'region_6',\n",
       " 'region_7',\n",
       " 'region_8',\n",
       " 'region_9']"
      ]
     },
     "execution_count": 1120,
     "metadata": {},
     "output_type": "execute_result"
    }
   ],
   "source": [
    "sorted(df['region'].unique())"
   ]
  },
  {
   "cell_type": "markdown",
   "id": "24667886",
   "metadata": {},
   "source": [
    "As regiões não estão em ordem"
   ]
  },
  {
   "cell_type": "code",
   "execution_count": 1121,
   "id": "db4a4934",
   "metadata": {},
   "outputs": [],
   "source": [
    "org_region = {}\n",
    "stri = 'region_'\n",
    "\n",
    "for i in df['region'].unique():\n",
    "   org_region[i] = int(i[len(stri):])"
   ]
  },
  {
   "cell_type": "code",
   "execution_count": 1122,
   "id": "5c78e46b",
   "metadata": {},
   "outputs": [],
   "source": [
    "sort_region = sorted(org_region.items(), key=lambda x:x[1])"
   ]
  },
  {
   "cell_type": "code",
   "execution_count": 1123,
   "id": "50da5412",
   "metadata": {},
   "outputs": [],
   "source": [
    "sort_region = dict(sort_region)"
   ]
  },
  {
   "cell_type": "code",
   "execution_count": 1124,
   "id": "2a87dcd8",
   "metadata": {},
   "outputs": [
    {
     "data": {
      "text/plain": [
       "{'region_1': 1,\n",
       " 'region_2': 2,\n",
       " 'region_3': 3,\n",
       " 'region_4': 4,\n",
       " 'region_5': 5,\n",
       " 'region_6': 6,\n",
       " 'region_7': 7,\n",
       " 'region_8': 8,\n",
       " 'region_9': 9,\n",
       " 'region_10': 10,\n",
       " 'region_11': 11,\n",
       " 'region_12': 12,\n",
       " 'region_13': 13,\n",
       " 'region_14': 14,\n",
       " 'region_15': 15,\n",
       " 'region_16': 16,\n",
       " 'region_17': 17,\n",
       " 'region_18': 18,\n",
       " 'region_19': 19,\n",
       " 'region_20': 20,\n",
       " 'region_21': 21,\n",
       " 'region_22': 22,\n",
       " 'region_23': 23,\n",
       " 'region_24': 24,\n",
       " 'region_25': 25,\n",
       " 'region_26': 26,\n",
       " 'region_27': 27,\n",
       " 'region_28': 28,\n",
       " 'region_29': 29,\n",
       " 'region_30': 30,\n",
       " 'region_31': 31,\n",
       " 'region_32': 32,\n",
       " 'region_33': 33,\n",
       " 'region_34': 34}"
      ]
     },
     "execution_count": 1124,
     "metadata": {},
     "output_type": "execute_result"
    }
   ],
   "source": [
    "sort_region"
   ]
  },
  {
   "cell_type": "code",
   "execution_count": 1125,
   "id": "8dd136ab",
   "metadata": {},
   "outputs": [],
   "source": [
    "ord_region = []\n",
    "\n",
    "for i in sort_region:\n",
    "    ord_region.append(i)"
   ]
  },
  {
   "cell_type": "code",
   "execution_count": 1126,
   "id": "80d70133",
   "metadata": {},
   "outputs": [],
   "source": [
    "enc_edu = OrdinalEncoder(categories = [ord_education])"
   ]
  },
  {
   "cell_type": "code",
   "execution_count": 1127,
   "id": "5abe0405",
   "metadata": {},
   "outputs": [],
   "source": [
    "df1['education'] = enc_edu.fit_transform(df1[['education']])"
   ]
  },
  {
   "cell_type": "code",
   "execution_count": 1128,
   "id": "8fbd4dbe",
   "metadata": {},
   "outputs": [],
   "source": [
    "enc_re = OrdinalEncoder(categories = [ord_region])"
   ]
  },
  {
   "cell_type": "code",
   "execution_count": 1130,
   "id": "4cebd269",
   "metadata": {},
   "outputs": [],
   "source": [
    "df1['region'] = enc_re.fit_transform(df1[['region']])"
   ]
  },
  {
   "cell_type": "code",
   "execution_count": 1131,
   "id": "77026515",
   "metadata": {},
   "outputs": [
    {
     "data": {
      "text/html": [
       "<div>\n",
       "<style scoped>\n",
       "    .dataframe tbody tr th:only-of-type {\n",
       "        vertical-align: middle;\n",
       "    }\n",
       "\n",
       "    .dataframe tbody tr th {\n",
       "        vertical-align: top;\n",
       "    }\n",
       "\n",
       "    .dataframe thead th {\n",
       "        text-align: right;\n",
       "    }\n",
       "</style>\n",
       "<table border=\"1\" class=\"dataframe\">\n",
       "  <thead>\n",
       "    <tr style=\"text-align: right;\">\n",
       "      <th></th>\n",
       "      <th>region</th>\n",
       "      <th>education</th>\n",
       "      <th>no_ of_ trainings</th>\n",
       "      <th>age</th>\n",
       "      <th>previous_ year_ rating</th>\n",
       "      <th>length_ of_ service</th>\n",
       "      <th>awards_ won?</th>\n",
       "      <th>avg_ training_ score</th>\n",
       "      <th>is_promoted</th>\n",
       "      <th>Analytics</th>\n",
       "      <th>...</th>\n",
       "      <th>Legal</th>\n",
       "      <th>Operations</th>\n",
       "      <th>Procurement</th>\n",
       "      <th>R&amp;D</th>\n",
       "      <th>Sales &amp; Marketing</th>\n",
       "      <th>Technology</th>\n",
       "      <th>f</th>\n",
       "      <th>m</th>\n",
       "      <th>referred</th>\n",
       "      <th>sourcing</th>\n",
       "    </tr>\n",
       "  </thead>\n",
       "  <tbody>\n",
       "    <tr>\n",
       "      <th>1</th>\n",
       "      <td>18.0</td>\n",
       "      <td>1.0</td>\n",
       "      <td>1.0</td>\n",
       "      <td>34.0</td>\n",
       "      <td>3.0</td>\n",
       "      <td>7.0</td>\n",
       "      <td>0.0</td>\n",
       "      <td>50.0</td>\n",
       "      <td>0.0</td>\n",
       "      <td>1.0</td>\n",
       "      <td>...</td>\n",
       "      <td>0.0</td>\n",
       "      <td>0.0</td>\n",
       "      <td>0.0</td>\n",
       "      <td>0.0</td>\n",
       "      <td>0.0</td>\n",
       "      <td>0.0</td>\n",
       "      <td>0.0</td>\n",
       "      <td>1.0</td>\n",
       "      <td>0.0</td>\n",
       "      <td>1.0</td>\n",
       "    </tr>\n",
       "    <tr>\n",
       "      <th>4</th>\n",
       "      <td>1.0</td>\n",
       "      <td>1.0</td>\n",
       "      <td>2.0</td>\n",
       "      <td>31.0</td>\n",
       "      <td>3.0</td>\n",
       "      <td>7.0</td>\n",
       "      <td>0.0</td>\n",
       "      <td>85.0</td>\n",
       "      <td>0.0</td>\n",
       "      <td>0.0</td>\n",
       "      <td>...</td>\n",
       "      <td>0.0</td>\n",
       "      <td>0.0</td>\n",
       "      <td>0.0</td>\n",
       "      <td>0.0</td>\n",
       "      <td>1.0</td>\n",
       "      <td>0.0</td>\n",
       "      <td>1.0</td>\n",
       "      <td>0.0</td>\n",
       "      <td>0.0</td>\n",
       "      <td>1.0</td>\n",
       "    </tr>\n",
       "    <tr>\n",
       "      <th>6</th>\n",
       "      <td>33.0</td>\n",
       "      <td>2.0</td>\n",
       "      <td>1.0</td>\n",
       "      <td>33.0</td>\n",
       "      <td>3.0</td>\n",
       "      <td>6.0</td>\n",
       "      <td>0.0</td>\n",
       "      <td>63.0</td>\n",
       "      <td>0.0</td>\n",
       "      <td>0.0</td>\n",
       "      <td>...</td>\n",
       "      <td>0.0</td>\n",
       "      <td>0.0</td>\n",
       "      <td>0.0</td>\n",
       "      <td>1.0</td>\n",
       "      <td>0.0</td>\n",
       "      <td>0.0</td>\n",
       "      <td>0.0</td>\n",
       "      <td>1.0</td>\n",
       "      <td>0.0</td>\n",
       "      <td>1.0</td>\n",
       "    </tr>\n",
       "    <tr>\n",
       "      <th>8</th>\n",
       "      <td>0.0</td>\n",
       "      <td>2.0</td>\n",
       "      <td>1.0</td>\n",
       "      <td>32.0</td>\n",
       "      <td>5.0</td>\n",
       "      <td>5.0</td>\n",
       "      <td>0.0</td>\n",
       "      <td>54.0</td>\n",
       "      <td>0.0</td>\n",
       "      <td>0.0</td>\n",
       "      <td>...</td>\n",
       "      <td>0.0</td>\n",
       "      <td>0.0</td>\n",
       "      <td>0.0</td>\n",
       "      <td>0.0</td>\n",
       "      <td>1.0</td>\n",
       "      <td>0.0</td>\n",
       "      <td>0.0</td>\n",
       "      <td>1.0</td>\n",
       "      <td>0.0</td>\n",
       "      <td>1.0</td>\n",
       "    </tr>\n",
       "    <tr>\n",
       "      <th>10</th>\n",
       "      <td>6.0</td>\n",
       "      <td>1.0</td>\n",
       "      <td>1.0</td>\n",
       "      <td>35.0</td>\n",
       "      <td>5.0</td>\n",
       "      <td>3.0</td>\n",
       "      <td>0.0</td>\n",
       "      <td>50.0</td>\n",
       "      <td>1.0</td>\n",
       "      <td>0.0</td>\n",
       "      <td>...</td>\n",
       "      <td>0.0</td>\n",
       "      <td>1.0</td>\n",
       "      <td>0.0</td>\n",
       "      <td>0.0</td>\n",
       "      <td>0.0</td>\n",
       "      <td>0.0</td>\n",
       "      <td>0.0</td>\n",
       "      <td>1.0</td>\n",
       "      <td>0.0</td>\n",
       "      <td>1.0</td>\n",
       "    </tr>\n",
       "  </tbody>\n",
       "</table>\n",
       "<p>5 rows × 22 columns</p>\n",
       "</div>"
      ],
      "text/plain": [
       "    region  education  no_ of_ trainings   age  previous_ year_ rating  \\\n",
       "1     18.0        1.0                1.0  34.0                     3.0   \n",
       "4      1.0        1.0                2.0  31.0                     3.0   \n",
       "6     33.0        2.0                1.0  33.0                     3.0   \n",
       "8      0.0        2.0                1.0  32.0                     5.0   \n",
       "10     6.0        1.0                1.0  35.0                     5.0   \n",
       "\n",
       "    length_ of_ service  awards_ won?  avg_ training_ score  is_promoted  \\\n",
       "1                   7.0           0.0                  50.0          0.0   \n",
       "4                   7.0           0.0                  85.0          0.0   \n",
       "6                   6.0           0.0                  63.0          0.0   \n",
       "8                   5.0           0.0                  54.0          0.0   \n",
       "10                  3.0           0.0                  50.0          1.0   \n",
       "\n",
       "    Analytics  ...  Legal  Operations  Procurement  R&D  Sales & Marketing  \\\n",
       "1         1.0  ...    0.0         0.0          0.0  0.0                0.0   \n",
       "4         0.0  ...    0.0         0.0          0.0  0.0                1.0   \n",
       "6         0.0  ...    0.0         0.0          0.0  1.0                0.0   \n",
       "8         0.0  ...    0.0         0.0          0.0  0.0                1.0   \n",
       "10        0.0  ...    0.0         1.0          0.0  0.0                0.0   \n",
       "\n",
       "    Technology    f    m  referred  sourcing  \n",
       "1          0.0  0.0  1.0       0.0       1.0  \n",
       "4          0.0  1.0  0.0       0.0       1.0  \n",
       "6          0.0  0.0  1.0       0.0       1.0  \n",
       "8          0.0  0.0  1.0       0.0       1.0  \n",
       "10         0.0  0.0  1.0       0.0       1.0  \n",
       "\n",
       "[5 rows x 22 columns]"
      ]
     },
     "execution_count": 1131,
     "metadata": {},
     "output_type": "execute_result"
    }
   ],
   "source": [
    "df1.head()"
   ]
  },
  {
   "cell_type": "markdown",
   "id": "8f164370",
   "metadata": {},
   "source": [
    "### Normalização"
   ]
  },
  {
   "cell_type": "markdown",
   "id": "6b144197",
   "metadata": {},
   "source": [
    "Vamos transformar os valores da coluna entre 0 e 1(MinMaxScaler)"
   ]
  },
  {
   "cell_type": "code",
   "execution_count": 1132,
   "id": "006f9544",
   "metadata": {},
   "outputs": [],
   "source": [
    "df = df1"
   ]
  },
  {
   "cell_type": "code",
   "execution_count": 1133,
   "id": "71cacde3",
   "metadata": {},
   "outputs": [],
   "source": [
    "from sklearn import preprocessing"
   ]
  },
  {
   "cell_type": "code",
   "execution_count": 1134,
   "id": "96619325",
   "metadata": {},
   "outputs": [],
   "source": [
    "scaler = preprocessing.MinMaxScaler()"
   ]
  },
  {
   "cell_type": "code",
   "execution_count": 1136,
   "id": "f6c16664",
   "metadata": {},
   "outputs": [],
   "source": [
    "names = df.columns"
   ]
  },
  {
   "cell_type": "code",
   "execution_count": 1137,
   "id": "bb41daf3",
   "metadata": {},
   "outputs": [],
   "source": [
    "d = scaler.fit_transform(df)"
   ]
  },
  {
   "cell_type": "code",
   "execution_count": 1139,
   "id": "91b1c6bc",
   "metadata": {},
   "outputs": [],
   "source": [
    "scaled_df = pd.DataFrame(d, columns=names)"
   ]
  },
  {
   "cell_type": "code",
   "execution_count": 1151,
   "id": "7763b0ab",
   "metadata": {},
   "outputs": [
    {
     "data": {
      "text/html": [
       "<div>\n",
       "<style scoped>\n",
       "    .dataframe tbody tr th:only-of-type {\n",
       "        vertical-align: middle;\n",
       "    }\n",
       "\n",
       "    .dataframe tbody tr th {\n",
       "        vertical-align: top;\n",
       "    }\n",
       "\n",
       "    .dataframe thead th {\n",
       "        text-align: right;\n",
       "    }\n",
       "</style>\n",
       "<table border=\"1\" class=\"dataframe\">\n",
       "  <thead>\n",
       "    <tr style=\"text-align: right;\">\n",
       "      <th></th>\n",
       "      <th>0</th>\n",
       "      <th>1</th>\n",
       "      <th>2</th>\n",
       "      <th>3</th>\n",
       "      <th>4</th>\n",
       "    </tr>\n",
       "  </thead>\n",
       "  <tbody>\n",
       "    <tr>\n",
       "      <th>region</th>\n",
       "      <td>0.545455</td>\n",
       "      <td>0.030303</td>\n",
       "      <td>1.000000</td>\n",
       "      <td>0.000000</td>\n",
       "      <td>0.181818</td>\n",
       "    </tr>\n",
       "    <tr>\n",
       "      <th>education</th>\n",
       "      <td>0.500000</td>\n",
       "      <td>0.500000</td>\n",
       "      <td>1.000000</td>\n",
       "      <td>1.000000</td>\n",
       "      <td>0.500000</td>\n",
       "    </tr>\n",
       "    <tr>\n",
       "      <th>no_ of_ trainings</th>\n",
       "      <td>0.000000</td>\n",
       "      <td>0.125000</td>\n",
       "      <td>0.000000</td>\n",
       "      <td>0.000000</td>\n",
       "      <td>0.000000</td>\n",
       "    </tr>\n",
       "    <tr>\n",
       "      <th>age</th>\n",
       "      <td>0.350000</td>\n",
       "      <td>0.275000</td>\n",
       "      <td>0.325000</td>\n",
       "      <td>0.300000</td>\n",
       "      <td>0.375000</td>\n",
       "    </tr>\n",
       "    <tr>\n",
       "      <th>previous_ year_ rating</th>\n",
       "      <td>0.500000</td>\n",
       "      <td>0.500000</td>\n",
       "      <td>0.500000</td>\n",
       "      <td>1.000000</td>\n",
       "      <td>1.000000</td>\n",
       "    </tr>\n",
       "    <tr>\n",
       "      <th>length_ of_ service</th>\n",
       "      <td>0.181818</td>\n",
       "      <td>0.181818</td>\n",
       "      <td>0.151515</td>\n",
       "      <td>0.121212</td>\n",
       "      <td>0.060606</td>\n",
       "    </tr>\n",
       "    <tr>\n",
       "      <th>awards_ won?</th>\n",
       "      <td>0.000000</td>\n",
       "      <td>0.000000</td>\n",
       "      <td>0.000000</td>\n",
       "      <td>0.000000</td>\n",
       "      <td>0.000000</td>\n",
       "    </tr>\n",
       "    <tr>\n",
       "      <th>avg_ training_ score</th>\n",
       "      <td>0.155172</td>\n",
       "      <td>0.758621</td>\n",
       "      <td>0.379310</td>\n",
       "      <td>0.224138</td>\n",
       "      <td>0.155172</td>\n",
       "    </tr>\n",
       "    <tr>\n",
       "      <th>is_promoted</th>\n",
       "      <td>0.000000</td>\n",
       "      <td>0.000000</td>\n",
       "      <td>0.000000</td>\n",
       "      <td>0.000000</td>\n",
       "      <td>1.000000</td>\n",
       "    </tr>\n",
       "    <tr>\n",
       "      <th>Analytics</th>\n",
       "      <td>1.000000</td>\n",
       "      <td>0.000000</td>\n",
       "      <td>0.000000</td>\n",
       "      <td>0.000000</td>\n",
       "      <td>0.000000</td>\n",
       "    </tr>\n",
       "    <tr>\n",
       "      <th>Finance</th>\n",
       "      <td>0.000000</td>\n",
       "      <td>0.000000</td>\n",
       "      <td>0.000000</td>\n",
       "      <td>0.000000</td>\n",
       "      <td>0.000000</td>\n",
       "    </tr>\n",
       "    <tr>\n",
       "      <th>HR</th>\n",
       "      <td>0.000000</td>\n",
       "      <td>0.000000</td>\n",
       "      <td>0.000000</td>\n",
       "      <td>0.000000</td>\n",
       "      <td>0.000000</td>\n",
       "    </tr>\n",
       "    <tr>\n",
       "      <th>Legal</th>\n",
       "      <td>0.000000</td>\n",
       "      <td>0.000000</td>\n",
       "      <td>0.000000</td>\n",
       "      <td>0.000000</td>\n",
       "      <td>0.000000</td>\n",
       "    </tr>\n",
       "    <tr>\n",
       "      <th>Operations</th>\n",
       "      <td>0.000000</td>\n",
       "      <td>0.000000</td>\n",
       "      <td>0.000000</td>\n",
       "      <td>0.000000</td>\n",
       "      <td>1.000000</td>\n",
       "    </tr>\n",
       "    <tr>\n",
       "      <th>Procurement</th>\n",
       "      <td>0.000000</td>\n",
       "      <td>0.000000</td>\n",
       "      <td>0.000000</td>\n",
       "      <td>0.000000</td>\n",
       "      <td>0.000000</td>\n",
       "    </tr>\n",
       "    <tr>\n",
       "      <th>R&amp;D</th>\n",
       "      <td>0.000000</td>\n",
       "      <td>0.000000</td>\n",
       "      <td>1.000000</td>\n",
       "      <td>0.000000</td>\n",
       "      <td>0.000000</td>\n",
       "    </tr>\n",
       "    <tr>\n",
       "      <th>Sales &amp; Marketing</th>\n",
       "      <td>0.000000</td>\n",
       "      <td>1.000000</td>\n",
       "      <td>0.000000</td>\n",
       "      <td>1.000000</td>\n",
       "      <td>0.000000</td>\n",
       "    </tr>\n",
       "    <tr>\n",
       "      <th>Technology</th>\n",
       "      <td>0.000000</td>\n",
       "      <td>0.000000</td>\n",
       "      <td>0.000000</td>\n",
       "      <td>0.000000</td>\n",
       "      <td>0.000000</td>\n",
       "    </tr>\n",
       "    <tr>\n",
       "      <th>f</th>\n",
       "      <td>0.000000</td>\n",
       "      <td>1.000000</td>\n",
       "      <td>0.000000</td>\n",
       "      <td>0.000000</td>\n",
       "      <td>0.000000</td>\n",
       "    </tr>\n",
       "    <tr>\n",
       "      <th>m</th>\n",
       "      <td>1.000000</td>\n",
       "      <td>0.000000</td>\n",
       "      <td>1.000000</td>\n",
       "      <td>1.000000</td>\n",
       "      <td>1.000000</td>\n",
       "    </tr>\n",
       "    <tr>\n",
       "      <th>referred</th>\n",
       "      <td>0.000000</td>\n",
       "      <td>0.000000</td>\n",
       "      <td>0.000000</td>\n",
       "      <td>0.000000</td>\n",
       "      <td>0.000000</td>\n",
       "    </tr>\n",
       "    <tr>\n",
       "      <th>sourcing</th>\n",
       "      <td>1.000000</td>\n",
       "      <td>1.000000</td>\n",
       "      <td>1.000000</td>\n",
       "      <td>1.000000</td>\n",
       "      <td>1.000000</td>\n",
       "    </tr>\n",
       "  </tbody>\n",
       "</table>\n",
       "</div>"
      ],
      "text/plain": [
       "                               0         1         2         3         4\n",
       "region                  0.545455  0.030303  1.000000  0.000000  0.181818\n",
       "education               0.500000  0.500000  1.000000  1.000000  0.500000\n",
       "no_ of_ trainings       0.000000  0.125000  0.000000  0.000000  0.000000\n",
       "age                     0.350000  0.275000  0.325000  0.300000  0.375000\n",
       "previous_ year_ rating  0.500000  0.500000  0.500000  1.000000  1.000000\n",
       "length_ of_ service     0.181818  0.181818  0.151515  0.121212  0.060606\n",
       "awards_ won?            0.000000  0.000000  0.000000  0.000000  0.000000\n",
       "avg_ training_ score    0.155172  0.758621  0.379310  0.224138  0.155172\n",
       "is_promoted             0.000000  0.000000  0.000000  0.000000  1.000000\n",
       "Analytics               1.000000  0.000000  0.000000  0.000000  0.000000\n",
       "Finance                 0.000000  0.000000  0.000000  0.000000  0.000000\n",
       "HR                      0.000000  0.000000  0.000000  0.000000  0.000000\n",
       "Legal                   0.000000  0.000000  0.000000  0.000000  0.000000\n",
       "Operations              0.000000  0.000000  0.000000  0.000000  1.000000\n",
       "Procurement             0.000000  0.000000  0.000000  0.000000  0.000000\n",
       "R&D                     0.000000  0.000000  1.000000  0.000000  0.000000\n",
       "Sales & Marketing       0.000000  1.000000  0.000000  1.000000  0.000000\n",
       "Technology              0.000000  0.000000  0.000000  0.000000  0.000000\n",
       "f                       0.000000  1.000000  0.000000  0.000000  0.000000\n",
       "m                       1.000000  0.000000  1.000000  1.000000  1.000000\n",
       "referred                0.000000  0.000000  0.000000  0.000000  0.000000\n",
       "sourcing                1.000000  1.000000  1.000000  1.000000  1.000000"
      ]
     },
     "execution_count": 1151,
     "metadata": {},
     "output_type": "execute_result"
    }
   ],
   "source": [
    "scaled_df.head().T"
   ]
  },
  {
   "cell_type": "code",
   "execution_count": 1152,
   "id": "3d29bf73",
   "metadata": {},
   "outputs": [],
   "source": [
    "df = scaled_df"
   ]
  },
  {
   "cell_type": "markdown",
   "id": "0a066afb",
   "metadata": {},
   "source": [
    "### Modelo: KNN"
   ]
  },
  {
   "cell_type": "markdown",
   "id": "0864e06f",
   "metadata": {},
   "source": [
    "Vamos agora treinar um modelo KNN para prever o target"
   ]
  },
  {
   "cell_type": "code",
   "execution_count": 1153,
   "id": "3696dab1",
   "metadata": {},
   "outputs": [],
   "source": [
    "from sklearn.neighbors import KNeighborsClassifier"
   ]
  },
  {
   "cell_type": "code",
   "execution_count": 1154,
   "id": "0552a8f0",
   "metadata": {},
   "outputs": [],
   "source": [
    "#Classificador\n",
    "neigh = KNeighborsClassifier(n_neighbors=10)"
   ]
  },
  {
   "cell_type": "code",
   "execution_count": 1155,
   "id": "a427b98e",
   "metadata": {},
   "outputs": [
    {
     "data": {
      "text/html": [
       "<div>\n",
       "<style scoped>\n",
       "    .dataframe tbody tr th:only-of-type {\n",
       "        vertical-align: middle;\n",
       "    }\n",
       "\n",
       "    .dataframe tbody tr th {\n",
       "        vertical-align: top;\n",
       "    }\n",
       "\n",
       "    .dataframe thead th {\n",
       "        text-align: right;\n",
       "    }\n",
       "</style>\n",
       "<table border=\"1\" class=\"dataframe\">\n",
       "  <thead>\n",
       "    <tr style=\"text-align: right;\">\n",
       "      <th></th>\n",
       "      <th>region</th>\n",
       "      <th>education</th>\n",
       "      <th>no_ of_ trainings</th>\n",
       "      <th>age</th>\n",
       "      <th>previous_ year_ rating</th>\n",
       "      <th>length_ of_ service</th>\n",
       "      <th>awards_ won?</th>\n",
       "      <th>avg_ training_ score</th>\n",
       "      <th>is_promoted</th>\n",
       "      <th>Analytics</th>\n",
       "      <th>...</th>\n",
       "      <th>Legal</th>\n",
       "      <th>Operations</th>\n",
       "      <th>Procurement</th>\n",
       "      <th>R&amp;D</th>\n",
       "      <th>Sales &amp; Marketing</th>\n",
       "      <th>Technology</th>\n",
       "      <th>f</th>\n",
       "      <th>m</th>\n",
       "      <th>referred</th>\n",
       "      <th>sourcing</th>\n",
       "    </tr>\n",
       "  </thead>\n",
       "  <tbody>\n",
       "    <tr>\n",
       "      <th>count</th>\n",
       "      <td>9770.000000</td>\n",
       "      <td>9770.000000</td>\n",
       "      <td>9770.000000</td>\n",
       "      <td>9770.000000</td>\n",
       "      <td>9770.000000</td>\n",
       "      <td>9770.000000</td>\n",
       "      <td>9770.000000</td>\n",
       "      <td>9770.000000</td>\n",
       "      <td>9770.000000</td>\n",
       "      <td>9770.000000</td>\n",
       "      <td>...</td>\n",
       "      <td>9770.000000</td>\n",
       "      <td>9770.000000</td>\n",
       "      <td>9770.000000</td>\n",
       "      <td>9770.000000</td>\n",
       "      <td>9770.000000</td>\n",
       "      <td>9770.000000</td>\n",
       "      <td>9770.000000</td>\n",
       "      <td>9770.000000</td>\n",
       "      <td>9770.000000</td>\n",
       "      <td>9770.000000</td>\n",
       "    </tr>\n",
       "    <tr>\n",
       "      <th>mean</th>\n",
       "      <td>0.396926</td>\n",
       "      <td>0.633316</td>\n",
       "      <td>0.031451</td>\n",
       "      <td>0.370862</td>\n",
       "      <td>0.588450</td>\n",
       "      <td>0.148379</td>\n",
       "      <td>0.020266</td>\n",
       "      <td>0.394405</td>\n",
       "      <td>0.087001</td>\n",
       "      <td>0.096008</td>\n",
       "      <td>...</td>\n",
       "      <td>0.018628</td>\n",
       "      <td>0.211157</td>\n",
       "      <td>0.135926</td>\n",
       "      <td>0.019550</td>\n",
       "      <td>0.296418</td>\n",
       "      <td>0.135517</td>\n",
       "      <td>0.298772</td>\n",
       "      <td>0.701228</td>\n",
       "      <td>0.047799</td>\n",
       "      <td>0.952201</td>\n",
       "    </tr>\n",
       "    <tr>\n",
       "      <th>std</th>\n",
       "      <td>0.304345</td>\n",
       "      <td>0.236976</td>\n",
       "      <td>0.071758</td>\n",
       "      <td>0.187832</td>\n",
       "      <td>0.299915</td>\n",
       "      <td>0.129561</td>\n",
       "      <td>0.140916</td>\n",
       "      <td>0.216165</td>\n",
       "      <td>0.281851</td>\n",
       "      <td>0.294618</td>\n",
       "      <td>...</td>\n",
       "      <td>0.135216</td>\n",
       "      <td>0.408150</td>\n",
       "      <td>0.342728</td>\n",
       "      <td>0.138454</td>\n",
       "      <td>0.456701</td>\n",
       "      <td>0.342292</td>\n",
       "      <td>0.457743</td>\n",
       "      <td>0.457743</td>\n",
       "      <td>0.213352</td>\n",
       "      <td>0.213352</td>\n",
       "    </tr>\n",
       "    <tr>\n",
       "      <th>min</th>\n",
       "      <td>0.000000</td>\n",
       "      <td>0.000000</td>\n",
       "      <td>0.000000</td>\n",
       "      <td>0.000000</td>\n",
       "      <td>0.000000</td>\n",
       "      <td>0.000000</td>\n",
       "      <td>0.000000</td>\n",
       "      <td>0.000000</td>\n",
       "      <td>0.000000</td>\n",
       "      <td>0.000000</td>\n",
       "      <td>...</td>\n",
       "      <td>0.000000</td>\n",
       "      <td>0.000000</td>\n",
       "      <td>0.000000</td>\n",
       "      <td>0.000000</td>\n",
       "      <td>0.000000</td>\n",
       "      <td>0.000000</td>\n",
       "      <td>0.000000</td>\n",
       "      <td>0.000000</td>\n",
       "      <td>0.000000</td>\n",
       "      <td>0.000000</td>\n",
       "    </tr>\n",
       "    <tr>\n",
       "      <th>25%</th>\n",
       "      <td>0.090909</td>\n",
       "      <td>0.500000</td>\n",
       "      <td>0.000000</td>\n",
       "      <td>0.225000</td>\n",
       "      <td>0.500000</td>\n",
       "      <td>0.060606</td>\n",
       "      <td>0.000000</td>\n",
       "      <td>0.206897</td>\n",
       "      <td>0.000000</td>\n",
       "      <td>0.000000</td>\n",
       "      <td>...</td>\n",
       "      <td>0.000000</td>\n",
       "      <td>0.000000</td>\n",
       "      <td>0.000000</td>\n",
       "      <td>0.000000</td>\n",
       "      <td>0.000000</td>\n",
       "      <td>0.000000</td>\n",
       "      <td>0.000000</td>\n",
       "      <td>0.000000</td>\n",
       "      <td>0.000000</td>\n",
       "      <td>1.000000</td>\n",
       "    </tr>\n",
       "    <tr>\n",
       "      <th>50%</th>\n",
       "      <td>0.363636</td>\n",
       "      <td>0.500000</td>\n",
       "      <td>0.000000</td>\n",
       "      <td>0.325000</td>\n",
       "      <td>0.500000</td>\n",
       "      <td>0.121212</td>\n",
       "      <td>0.000000</td>\n",
       "      <td>0.379310</td>\n",
       "      <td>0.000000</td>\n",
       "      <td>0.000000</td>\n",
       "      <td>...</td>\n",
       "      <td>0.000000</td>\n",
       "      <td>0.000000</td>\n",
       "      <td>0.000000</td>\n",
       "      <td>0.000000</td>\n",
       "      <td>0.000000</td>\n",
       "      <td>0.000000</td>\n",
       "      <td>0.000000</td>\n",
       "      <td>1.000000</td>\n",
       "      <td>0.000000</td>\n",
       "      <td>1.000000</td>\n",
       "    </tr>\n",
       "    <tr>\n",
       "      <th>75%</th>\n",
       "      <td>0.636364</td>\n",
       "      <td>1.000000</td>\n",
       "      <td>0.031424</td>\n",
       "      <td>0.475000</td>\n",
       "      <td>0.750000</td>\n",
       "      <td>0.204545</td>\n",
       "      <td>0.000000</td>\n",
       "      <td>0.551724</td>\n",
       "      <td>0.000000</td>\n",
       "      <td>0.000000</td>\n",
       "      <td>...</td>\n",
       "      <td>0.000000</td>\n",
       "      <td>0.000000</td>\n",
       "      <td>0.000000</td>\n",
       "      <td>0.000000</td>\n",
       "      <td>1.000000</td>\n",
       "      <td>0.000000</td>\n",
       "      <td>1.000000</td>\n",
       "      <td>1.000000</td>\n",
       "      <td>0.000000</td>\n",
       "      <td>1.000000</td>\n",
       "    </tr>\n",
       "    <tr>\n",
       "      <th>max</th>\n",
       "      <td>1.000000</td>\n",
       "      <td>1.000000</td>\n",
       "      <td>1.000000</td>\n",
       "      <td>1.000000</td>\n",
       "      <td>1.000000</td>\n",
       "      <td>1.000000</td>\n",
       "      <td>1.000000</td>\n",
       "      <td>1.000000</td>\n",
       "      <td>1.000000</td>\n",
       "      <td>1.000000</td>\n",
       "      <td>...</td>\n",
       "      <td>1.000000</td>\n",
       "      <td>1.000000</td>\n",
       "      <td>1.000000</td>\n",
       "      <td>1.000000</td>\n",
       "      <td>1.000000</td>\n",
       "      <td>1.000000</td>\n",
       "      <td>1.000000</td>\n",
       "      <td>1.000000</td>\n",
       "      <td>1.000000</td>\n",
       "      <td>1.000000</td>\n",
       "    </tr>\n",
       "  </tbody>\n",
       "</table>\n",
       "<p>8 rows × 22 columns</p>\n",
       "</div>"
      ],
      "text/plain": [
       "            region    education  no_ of_ trainings          age  \\\n",
       "count  9770.000000  9770.000000        9770.000000  9770.000000   \n",
       "mean      0.396926     0.633316           0.031451     0.370862   \n",
       "std       0.304345     0.236976           0.071758     0.187832   \n",
       "min       0.000000     0.000000           0.000000     0.000000   \n",
       "25%       0.090909     0.500000           0.000000     0.225000   \n",
       "50%       0.363636     0.500000           0.000000     0.325000   \n",
       "75%       0.636364     1.000000           0.031424     0.475000   \n",
       "max       1.000000     1.000000           1.000000     1.000000   \n",
       "\n",
       "       previous_ year_ rating  length_ of_ service  awards_ won?  \\\n",
       "count             9770.000000          9770.000000   9770.000000   \n",
       "mean                 0.588450             0.148379      0.020266   \n",
       "std                  0.299915             0.129561      0.140916   \n",
       "min                  0.000000             0.000000      0.000000   \n",
       "25%                  0.500000             0.060606      0.000000   \n",
       "50%                  0.500000             0.121212      0.000000   \n",
       "75%                  0.750000             0.204545      0.000000   \n",
       "max                  1.000000             1.000000      1.000000   \n",
       "\n",
       "       avg_ training_ score  is_promoted    Analytics  ...        Legal  \\\n",
       "count           9770.000000  9770.000000  9770.000000  ...  9770.000000   \n",
       "mean               0.394405     0.087001     0.096008  ...     0.018628   \n",
       "std                0.216165     0.281851     0.294618  ...     0.135216   \n",
       "min                0.000000     0.000000     0.000000  ...     0.000000   \n",
       "25%                0.206897     0.000000     0.000000  ...     0.000000   \n",
       "50%                0.379310     0.000000     0.000000  ...     0.000000   \n",
       "75%                0.551724     0.000000     0.000000  ...     0.000000   \n",
       "max                1.000000     1.000000     1.000000  ...     1.000000   \n",
       "\n",
       "        Operations  Procurement          R&D  Sales & Marketing   Technology  \\\n",
       "count  9770.000000  9770.000000  9770.000000        9770.000000  9770.000000   \n",
       "mean      0.211157     0.135926     0.019550           0.296418     0.135517   \n",
       "std       0.408150     0.342728     0.138454           0.456701     0.342292   \n",
       "min       0.000000     0.000000     0.000000           0.000000     0.000000   \n",
       "25%       0.000000     0.000000     0.000000           0.000000     0.000000   \n",
       "50%       0.000000     0.000000     0.000000           0.000000     0.000000   \n",
       "75%       0.000000     0.000000     0.000000           1.000000     0.000000   \n",
       "max       1.000000     1.000000     1.000000           1.000000     1.000000   \n",
       "\n",
       "                 f            m     referred     sourcing  \n",
       "count  9770.000000  9770.000000  9770.000000  9770.000000  \n",
       "mean      0.298772     0.701228     0.047799     0.952201  \n",
       "std       0.457743     0.457743     0.213352     0.213352  \n",
       "min       0.000000     0.000000     0.000000     0.000000  \n",
       "25%       0.000000     0.000000     0.000000     1.000000  \n",
       "50%       0.000000     1.000000     0.000000     1.000000  \n",
       "75%       1.000000     1.000000     0.000000     1.000000  \n",
       "max       1.000000     1.000000     1.000000     1.000000  \n",
       "\n",
       "[8 rows x 22 columns]"
      ]
     },
     "execution_count": 1155,
     "metadata": {},
     "output_type": "execute_result"
    }
   ],
   "source": [
    "df.describe()"
   ]
  },
  {
   "cell_type": "markdown",
   "id": "eb21f69a",
   "metadata": {},
   "source": [
    "Há 9770 valores, vamos separar em torno de 75% para treino e 25% para teste"
   ]
  },
  {
   "cell_type": "code",
   "execution_count": null,
   "id": "754ea9ec",
   "metadata": {},
   "outputs": [],
   "source": []
  }
 ],
 "metadata": {
  "kernelspec": {
   "display_name": "Python 3 (ipykernel)",
   "language": "python",
   "name": "python3"
  },
  "language_info": {
   "codemirror_mode": {
    "name": "ipython",
    "version": 3
   },
   "file_extension": ".py",
   "mimetype": "text/x-python",
   "name": "python",
   "nbconvert_exporter": "python",
   "pygments_lexer": "ipython3",
   "version": "3.9.7"
  }
 },
 "nbformat": 4,
 "nbformat_minor": 5
}
