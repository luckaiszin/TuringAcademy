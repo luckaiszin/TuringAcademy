{
 "cells": [
  {
   "cell_type": "markdown",
   "id": "cd36b626",
   "metadata": {},
   "source": [
    "# Entregável 1"
   ]
  },
  {
   "cell_type": "markdown",
   "id": "555b48bc",
   "metadata": {},
   "source": [
    "## Análise e Limpeza de dados"
   ]
  },
  {
   "cell_type": "code",
   "execution_count": 388,
   "id": "66b98242",
   "metadata": {},
   "outputs": [],
   "source": [
    "import numpy as np\n",
    "import pandas as pd\n",
    "import matplotlib.pyplot as plt\n",
    "import seaborn as sns"
   ]
  },
  {
   "cell_type": "code",
   "execution_count": 389,
   "id": "d94d74b8",
   "metadata": {},
   "outputs": [],
   "source": [
    "df = pd.read_csv('dataset1.csv') #dataframe: leitura do dataset"
   ]
  },
  {
   "cell_type": "code",
   "execution_count": 390,
   "id": "391259f9",
   "metadata": {},
   "outputs": [
    {
     "name": "stdout",
     "output_type": "stream",
     "text": [
      "<class 'pandas.core.frame.DataFrame'>\n",
      "RangeIndex: 2880 entries, 0 to 2879\n",
      "Data columns (total 3 columns):\n",
      " #   Column       Non-Null Count  Dtype  \n",
      "---  ------       --------------  -----  \n",
      " 0   data         2880 non-null   object \n",
      " 1   responsável  2880 non-null   object \n",
      " 2   temperatura  2799 non-null   float64\n",
      "dtypes: float64(1), object(2)\n",
      "memory usage: 67.6+ KB\n"
     ]
    }
   ],
   "source": [
    "df.info()"
   ]
  },
  {
   "cell_type": "markdown",
   "id": "2230463f",
   "metadata": {},
   "source": [
    "É possível observar o dataset consiste de três variáveis: data(categórica), responsável(categórica) e temperatura(float)"
   ]
  },
  {
   "cell_type": "code",
   "execution_count": 391,
   "id": "554946da",
   "metadata": {
    "scrolled": true
   },
   "outputs": [
    {
     "data": {
      "text/html": [
       "<div>\n",
       "<style scoped>\n",
       "    .dataframe tbody tr th:only-of-type {\n",
       "        vertical-align: middle;\n",
       "    }\n",
       "\n",
       "    .dataframe tbody tr th {\n",
       "        vertical-align: top;\n",
       "    }\n",
       "\n",
       "    .dataframe thead th {\n",
       "        text-align: right;\n",
       "    }\n",
       "</style>\n",
       "<table border=\"1\" class=\"dataframe\">\n",
       "  <thead>\n",
       "    <tr style=\"text-align: right;\">\n",
       "      <th></th>\n",
       "      <th>data</th>\n",
       "      <th>responsável</th>\n",
       "      <th>temperatura</th>\n",
       "    </tr>\n",
       "  </thead>\n",
       "  <tbody>\n",
       "    <tr>\n",
       "      <th>0</th>\n",
       "      <td>sábado - 01/04/2023 00:00</td>\n",
       "      <td>Fábio</td>\n",
       "      <td>19.59</td>\n",
       "    </tr>\n",
       "    <tr>\n",
       "      <th>1</th>\n",
       "      <td>sábado - 01/04/2023 00:15</td>\n",
       "      <td>Fábio</td>\n",
       "      <td>19.10</td>\n",
       "    </tr>\n",
       "    <tr>\n",
       "      <th>2</th>\n",
       "      <td>sábado - 01/04/2023 00:30</td>\n",
       "      <td>Fábio</td>\n",
       "      <td>19.14</td>\n",
       "    </tr>\n",
       "    <tr>\n",
       "      <th>3</th>\n",
       "      <td>sábado - 01/04/2023 00:45</td>\n",
       "      <td>Fábio</td>\n",
       "      <td>18.55</td>\n",
       "    </tr>\n",
       "    <tr>\n",
       "      <th>4</th>\n",
       "      <td>sábado - 01/04/2023 01:00</td>\n",
       "      <td>Fábio</td>\n",
       "      <td>NaN</td>\n",
       "    </tr>\n",
       "    <tr>\n",
       "      <th>5</th>\n",
       "      <td>sábado - 01/04/2023 01:15</td>\n",
       "      <td>Fábio</td>\n",
       "      <td>18.19</td>\n",
       "    </tr>\n",
       "    <tr>\n",
       "      <th>6</th>\n",
       "      <td>sábado - 01/04/2023 01:30</td>\n",
       "      <td>Fábio</td>\n",
       "      <td>18.17</td>\n",
       "    </tr>\n",
       "    <tr>\n",
       "      <th>7</th>\n",
       "      <td>sábado - 01/04/2023 01:45</td>\n",
       "      <td>Fábio</td>\n",
       "      <td>17.79</td>\n",
       "    </tr>\n",
       "    <tr>\n",
       "      <th>8</th>\n",
       "      <td>sábado - 01/04/2023 02:00</td>\n",
       "      <td>Fábio</td>\n",
       "      <td>17.86</td>\n",
       "    </tr>\n",
       "    <tr>\n",
       "      <th>9</th>\n",
       "      <td>sábado - 01/04/2023 02:15</td>\n",
       "      <td>Fábio</td>\n",
       "      <td>17.49</td>\n",
       "    </tr>\n",
       "  </tbody>\n",
       "</table>\n",
       "</div>"
      ],
      "text/plain": [
       "                        data responsável  temperatura\n",
       "0  sábado - 01/04/2023 00:00       Fábio        19.59\n",
       "1  sábado - 01/04/2023 00:15       Fábio        19.10\n",
       "2  sábado - 01/04/2023 00:30       Fábio        19.14\n",
       "3  sábado - 01/04/2023 00:45       Fábio        18.55\n",
       "4  sábado - 01/04/2023 01:00       Fábio          NaN\n",
       "5  sábado - 01/04/2023 01:15       Fábio        18.19\n",
       "6  sábado - 01/04/2023 01:30       Fábio        18.17\n",
       "7  sábado - 01/04/2023 01:45       Fábio        17.79\n",
       "8  sábado - 01/04/2023 02:00       Fábio        17.86\n",
       "9  sábado - 01/04/2023 02:15       Fábio        17.49"
      ]
     },
     "execution_count": 391,
     "metadata": {},
     "output_type": "execute_result"
    }
   ],
   "source": [
    "df.head(10)"
   ]
  },
  {
   "cell_type": "markdown",
   "id": "81963930",
   "metadata": {},
   "source": [
    "Já é possível visualizar que alguns dados estão com valores faltando.  "
   ]
  },
  {
   "cell_type": "markdown",
   "id": "02781e22",
   "metadata": {},
   "source": [
    "### Lidando com dados categóricos"
   ]
  },
  {
   "cell_type": "code",
   "execution_count": 392,
   "id": "220fd8cc",
   "metadata": {},
   "outputs": [
    {
     "data": {
      "text/html": [
       "<div>\n",
       "<style scoped>\n",
       "    .dataframe tbody tr th:only-of-type {\n",
       "        vertical-align: middle;\n",
       "    }\n",
       "\n",
       "    .dataframe tbody tr th {\n",
       "        vertical-align: top;\n",
       "    }\n",
       "\n",
       "    .dataframe thead th {\n",
       "        text-align: right;\n",
       "    }\n",
       "</style>\n",
       "<table border=\"1\" class=\"dataframe\">\n",
       "  <thead>\n",
       "    <tr style=\"text-align: right;\">\n",
       "      <th></th>\n",
       "      <th>data</th>\n",
       "      <th>responsável</th>\n",
       "    </tr>\n",
       "  </thead>\n",
       "  <tbody>\n",
       "    <tr>\n",
       "      <th>count</th>\n",
       "      <td>2880</td>\n",
       "      <td>2880</td>\n",
       "    </tr>\n",
       "    <tr>\n",
       "      <th>unique</th>\n",
       "      <td>2880</td>\n",
       "      <td>6</td>\n",
       "    </tr>\n",
       "    <tr>\n",
       "      <th>top</th>\n",
       "      <td>sábado - 01/04/2023 00:00</td>\n",
       "      <td>Fábio</td>\n",
       "    </tr>\n",
       "    <tr>\n",
       "      <th>freq</th>\n",
       "      <td>1</td>\n",
       "      <td>624</td>\n",
       "    </tr>\n",
       "  </tbody>\n",
       "</table>\n",
       "</div>"
      ],
      "text/plain": [
       "                             data responsável\n",
       "count                        2880        2880\n",
       "unique                       2880           6\n",
       "top     sábado - 01/04/2023 00:00       Fábio\n",
       "freq                            1         624"
      ]
     },
     "execution_count": 392,
     "metadata": {},
     "output_type": "execute_result"
    }
   ],
   "source": [
    "df.describe(include=['object'])"
   ]
  },
  {
   "cell_type": "markdown",
   "id": "49ce6383",
   "metadata": {},
   "source": [
    "A coluna dos 'responsáveis' está correta."
   ]
  },
  {
   "cell_type": "markdown",
   "id": "7c6dc03d",
   "metadata": {},
   "source": [
    "A coluna da data está em um formato pouco usual, para isso, será necessário converter para um formato no qual seja possível trabalharmos: datatime."
   ]
  },
  {
   "cell_type": "code",
   "execution_count": 393,
   "id": "c49efde7",
   "metadata": {},
   "outputs": [],
   "source": [
    "df['datetime'] = df['data'].str[-16:]\n",
    "df['dia das semanas'] = df['data'].str[:3]"
   ]
  },
  {
   "cell_type": "code",
   "execution_count": 394,
   "id": "d09826e6",
   "metadata": {},
   "outputs": [
    {
     "data": {
      "text/html": [
       "<div>\n",
       "<style scoped>\n",
       "    .dataframe tbody tr th:only-of-type {\n",
       "        vertical-align: middle;\n",
       "    }\n",
       "\n",
       "    .dataframe tbody tr th {\n",
       "        vertical-align: top;\n",
       "    }\n",
       "\n",
       "    .dataframe thead th {\n",
       "        text-align: right;\n",
       "    }\n",
       "</style>\n",
       "<table border=\"1\" class=\"dataframe\">\n",
       "  <thead>\n",
       "    <tr style=\"text-align: right;\">\n",
       "      <th></th>\n",
       "      <th>data</th>\n",
       "      <th>responsável</th>\n",
       "      <th>temperatura</th>\n",
       "      <th>datetime</th>\n",
       "      <th>dia das semanas</th>\n",
       "    </tr>\n",
       "  </thead>\n",
       "  <tbody>\n",
       "    <tr>\n",
       "      <th>0</th>\n",
       "      <td>sábado - 01/04/2023 00:00</td>\n",
       "      <td>Fábio</td>\n",
       "      <td>19.59</td>\n",
       "      <td>01/04/2023 00:00</td>\n",
       "      <td>sáb</td>\n",
       "    </tr>\n",
       "    <tr>\n",
       "      <th>1</th>\n",
       "      <td>sábado - 01/04/2023 00:15</td>\n",
       "      <td>Fábio</td>\n",
       "      <td>19.10</td>\n",
       "      <td>01/04/2023 00:15</td>\n",
       "      <td>sáb</td>\n",
       "    </tr>\n",
       "    <tr>\n",
       "      <th>2</th>\n",
       "      <td>sábado - 01/04/2023 00:30</td>\n",
       "      <td>Fábio</td>\n",
       "      <td>19.14</td>\n",
       "      <td>01/04/2023 00:30</td>\n",
       "      <td>sáb</td>\n",
       "    </tr>\n",
       "    <tr>\n",
       "      <th>3</th>\n",
       "      <td>sábado - 01/04/2023 00:45</td>\n",
       "      <td>Fábio</td>\n",
       "      <td>18.55</td>\n",
       "      <td>01/04/2023 00:45</td>\n",
       "      <td>sáb</td>\n",
       "    </tr>\n",
       "    <tr>\n",
       "      <th>4</th>\n",
       "      <td>sábado - 01/04/2023 01:00</td>\n",
       "      <td>Fábio</td>\n",
       "      <td>NaN</td>\n",
       "      <td>01/04/2023 01:00</td>\n",
       "      <td>sáb</td>\n",
       "    </tr>\n",
       "    <tr>\n",
       "      <th>5</th>\n",
       "      <td>sábado - 01/04/2023 01:15</td>\n",
       "      <td>Fábio</td>\n",
       "      <td>18.19</td>\n",
       "      <td>01/04/2023 01:15</td>\n",
       "      <td>sáb</td>\n",
       "    </tr>\n",
       "    <tr>\n",
       "      <th>6</th>\n",
       "      <td>sábado - 01/04/2023 01:30</td>\n",
       "      <td>Fábio</td>\n",
       "      <td>18.17</td>\n",
       "      <td>01/04/2023 01:30</td>\n",
       "      <td>sáb</td>\n",
       "    </tr>\n",
       "    <tr>\n",
       "      <th>7</th>\n",
       "      <td>sábado - 01/04/2023 01:45</td>\n",
       "      <td>Fábio</td>\n",
       "      <td>17.79</td>\n",
       "      <td>01/04/2023 01:45</td>\n",
       "      <td>sáb</td>\n",
       "    </tr>\n",
       "    <tr>\n",
       "      <th>8</th>\n",
       "      <td>sábado - 01/04/2023 02:00</td>\n",
       "      <td>Fábio</td>\n",
       "      <td>17.86</td>\n",
       "      <td>01/04/2023 02:00</td>\n",
       "      <td>sáb</td>\n",
       "    </tr>\n",
       "    <tr>\n",
       "      <th>9</th>\n",
       "      <td>sábado - 01/04/2023 02:15</td>\n",
       "      <td>Fábio</td>\n",
       "      <td>17.49</td>\n",
       "      <td>01/04/2023 02:15</td>\n",
       "      <td>sáb</td>\n",
       "    </tr>\n",
       "  </tbody>\n",
       "</table>\n",
       "</div>"
      ],
      "text/plain": [
       "                        data responsável  temperatura          datetime  \\\n",
       "0  sábado - 01/04/2023 00:00       Fábio        19.59  01/04/2023 00:00   \n",
       "1  sábado - 01/04/2023 00:15       Fábio        19.10  01/04/2023 00:15   \n",
       "2  sábado - 01/04/2023 00:30       Fábio        19.14  01/04/2023 00:30   \n",
       "3  sábado - 01/04/2023 00:45       Fábio        18.55  01/04/2023 00:45   \n",
       "4  sábado - 01/04/2023 01:00       Fábio          NaN  01/04/2023 01:00   \n",
       "5  sábado - 01/04/2023 01:15       Fábio        18.19  01/04/2023 01:15   \n",
       "6  sábado - 01/04/2023 01:30       Fábio        18.17  01/04/2023 01:30   \n",
       "7  sábado - 01/04/2023 01:45       Fábio        17.79  01/04/2023 01:45   \n",
       "8  sábado - 01/04/2023 02:00       Fábio        17.86  01/04/2023 02:00   \n",
       "9  sábado - 01/04/2023 02:15       Fábio        17.49  01/04/2023 02:15   \n",
       "\n",
       "  dia das semanas  \n",
       "0             sáb  \n",
       "1             sáb  \n",
       "2             sáb  \n",
       "3             sáb  \n",
       "4             sáb  \n",
       "5             sáb  \n",
       "6             sáb  \n",
       "7             sáb  \n",
       "8             sáb  \n",
       "9             sáb  "
      ]
     },
     "execution_count": 394,
     "metadata": {},
     "output_type": "execute_result"
    }
   ],
   "source": [
    "df.head(10)"
   ]
  },
  {
   "cell_type": "markdown",
   "id": "b7908518",
   "metadata": {},
   "source": [
    "Já com uma primeira vista do dataset, é possível observar que há dados faltando.\n"
   ]
  },
  {
   "cell_type": "markdown",
   "id": "dcc26c1f",
   "metadata": {},
   "source": [
    "### Limpeza de Dados"
   ]
  },
  {
   "cell_type": "markdown",
   "id": "f4fe1834",
   "metadata": {},
   "source": [
    "Uma maneira de lidarmos com os dados faltantes é por meio de imputação de média.[1]"
   ]
  },
  {
   "cell_type": "code",
   "execution_count": 395,
   "id": "1703c38c",
   "metadata": {},
   "outputs": [],
   "source": [
    "df['temperatura'].fillna((df['temperatura'].mean()), inplace = True)"
   ]
  },
  {
   "cell_type": "code",
   "execution_count": 396,
   "id": "466ce296",
   "metadata": {},
   "outputs": [
    {
     "data": {
      "text/html": [
       "<div>\n",
       "<style scoped>\n",
       "    .dataframe tbody tr th:only-of-type {\n",
       "        vertical-align: middle;\n",
       "    }\n",
       "\n",
       "    .dataframe tbody tr th {\n",
       "        vertical-align: top;\n",
       "    }\n",
       "\n",
       "    .dataframe thead th {\n",
       "        text-align: right;\n",
       "    }\n",
       "</style>\n",
       "<table border=\"1\" class=\"dataframe\">\n",
       "  <thead>\n",
       "    <tr style=\"text-align: right;\">\n",
       "      <th></th>\n",
       "      <th>data</th>\n",
       "      <th>responsável</th>\n",
       "      <th>temperatura</th>\n",
       "      <th>datetime</th>\n",
       "      <th>dia das semanas</th>\n",
       "    </tr>\n",
       "  </thead>\n",
       "  <tbody>\n",
       "    <tr>\n",
       "      <th>0</th>\n",
       "      <td>sábado - 01/04/2023 00:00</td>\n",
       "      <td>Fábio</td>\n",
       "      <td>19.590000</td>\n",
       "      <td>01/04/2023 00:00</td>\n",
       "      <td>sáb</td>\n",
       "    </tr>\n",
       "    <tr>\n",
       "      <th>1</th>\n",
       "      <td>sábado - 01/04/2023 00:15</td>\n",
       "      <td>Fábio</td>\n",
       "      <td>19.100000</td>\n",
       "      <td>01/04/2023 00:15</td>\n",
       "      <td>sáb</td>\n",
       "    </tr>\n",
       "    <tr>\n",
       "      <th>2</th>\n",
       "      <td>sábado - 01/04/2023 00:30</td>\n",
       "      <td>Fábio</td>\n",
       "      <td>19.140000</td>\n",
       "      <td>01/04/2023 00:30</td>\n",
       "      <td>sáb</td>\n",
       "    </tr>\n",
       "    <tr>\n",
       "      <th>3</th>\n",
       "      <td>sábado - 01/04/2023 00:45</td>\n",
       "      <td>Fábio</td>\n",
       "      <td>18.550000</td>\n",
       "      <td>01/04/2023 00:45</td>\n",
       "      <td>sáb</td>\n",
       "    </tr>\n",
       "    <tr>\n",
       "      <th>4</th>\n",
       "      <td>sábado - 01/04/2023 01:00</td>\n",
       "      <td>Fábio</td>\n",
       "      <td>23.206384</td>\n",
       "      <td>01/04/2023 01:00</td>\n",
       "      <td>sáb</td>\n",
       "    </tr>\n",
       "    <tr>\n",
       "      <th>5</th>\n",
       "      <td>sábado - 01/04/2023 01:15</td>\n",
       "      <td>Fábio</td>\n",
       "      <td>18.190000</td>\n",
       "      <td>01/04/2023 01:15</td>\n",
       "      <td>sáb</td>\n",
       "    </tr>\n",
       "    <tr>\n",
       "      <th>6</th>\n",
       "      <td>sábado - 01/04/2023 01:30</td>\n",
       "      <td>Fábio</td>\n",
       "      <td>18.170000</td>\n",
       "      <td>01/04/2023 01:30</td>\n",
       "      <td>sáb</td>\n",
       "    </tr>\n",
       "    <tr>\n",
       "      <th>7</th>\n",
       "      <td>sábado - 01/04/2023 01:45</td>\n",
       "      <td>Fábio</td>\n",
       "      <td>17.790000</td>\n",
       "      <td>01/04/2023 01:45</td>\n",
       "      <td>sáb</td>\n",
       "    </tr>\n",
       "    <tr>\n",
       "      <th>8</th>\n",
       "      <td>sábado - 01/04/2023 02:00</td>\n",
       "      <td>Fábio</td>\n",
       "      <td>17.860000</td>\n",
       "      <td>01/04/2023 02:00</td>\n",
       "      <td>sáb</td>\n",
       "    </tr>\n",
       "    <tr>\n",
       "      <th>9</th>\n",
       "      <td>sábado - 01/04/2023 02:15</td>\n",
       "      <td>Fábio</td>\n",
       "      <td>17.490000</td>\n",
       "      <td>01/04/2023 02:15</td>\n",
       "      <td>sáb</td>\n",
       "    </tr>\n",
       "  </tbody>\n",
       "</table>\n",
       "</div>"
      ],
      "text/plain": [
       "                        data responsável  temperatura          datetime  \\\n",
       "0  sábado - 01/04/2023 00:00       Fábio    19.590000  01/04/2023 00:00   \n",
       "1  sábado - 01/04/2023 00:15       Fábio    19.100000  01/04/2023 00:15   \n",
       "2  sábado - 01/04/2023 00:30       Fábio    19.140000  01/04/2023 00:30   \n",
       "3  sábado - 01/04/2023 00:45       Fábio    18.550000  01/04/2023 00:45   \n",
       "4  sábado - 01/04/2023 01:00       Fábio    23.206384  01/04/2023 01:00   \n",
       "5  sábado - 01/04/2023 01:15       Fábio    18.190000  01/04/2023 01:15   \n",
       "6  sábado - 01/04/2023 01:30       Fábio    18.170000  01/04/2023 01:30   \n",
       "7  sábado - 01/04/2023 01:45       Fábio    17.790000  01/04/2023 01:45   \n",
       "8  sábado - 01/04/2023 02:00       Fábio    17.860000  01/04/2023 02:00   \n",
       "9  sábado - 01/04/2023 02:15       Fábio    17.490000  01/04/2023 02:15   \n",
       "\n",
       "  dia das semanas  \n",
       "0             sáb  \n",
       "1             sáb  \n",
       "2             sáb  \n",
       "3             sáb  \n",
       "4             sáb  \n",
       "5             sáb  \n",
       "6             sáb  \n",
       "7             sáb  \n",
       "8             sáb  \n",
       "9             sáb  "
      ]
     },
     "execution_count": 396,
     "metadata": {},
     "output_type": "execute_result"
    }
   ],
   "source": [
    "df.head(10)"
   ]
  },
  {
   "cell_type": "code",
   "execution_count": 397,
   "id": "63e5ae53",
   "metadata": {},
   "outputs": [],
   "source": [
    "df['data'] = pd.to_datetime(df['datetime'])\n",
    "df = df.drop('datetime', axis=1)"
   ]
  },
  {
   "cell_type": "code",
   "execution_count": 398,
   "id": "13fc857f",
   "metadata": {},
   "outputs": [
    {
     "name": "stdout",
     "output_type": "stream",
     "text": [
      "<class 'pandas.core.frame.DataFrame'>\n",
      "RangeIndex: 2880 entries, 0 to 2879\n",
      "Data columns (total 4 columns):\n",
      " #   Column           Non-Null Count  Dtype         \n",
      "---  ------           --------------  -----         \n",
      " 0   data             2880 non-null   datetime64[ns]\n",
      " 1   responsável      2880 non-null   object        \n",
      " 2   temperatura      2880 non-null   float64       \n",
      " 3   dia das semanas  2880 non-null   object        \n",
      "dtypes: datetime64[ns](1), float64(1), object(2)\n",
      "memory usage: 90.1+ KB\n"
     ]
    }
   ],
   "source": [
    "df.info()"
   ]
  },
  {
   "cell_type": "code",
   "execution_count": 399,
   "id": "ea9bf70f",
   "metadata": {},
   "outputs": [
    {
     "data": {
      "text/html": [
       "<div>\n",
       "<style scoped>\n",
       "    .dataframe tbody tr th:only-of-type {\n",
       "        vertical-align: middle;\n",
       "    }\n",
       "\n",
       "    .dataframe tbody tr th {\n",
       "        vertical-align: top;\n",
       "    }\n",
       "\n",
       "    .dataframe thead th {\n",
       "        text-align: right;\n",
       "    }\n",
       "</style>\n",
       "<table border=\"1\" class=\"dataframe\">\n",
       "  <thead>\n",
       "    <tr style=\"text-align: right;\">\n",
       "      <th></th>\n",
       "      <th>data</th>\n",
       "      <th>responsável</th>\n",
       "      <th>temperatura</th>\n",
       "      <th>dia das semanas</th>\n",
       "    </tr>\n",
       "  </thead>\n",
       "  <tbody>\n",
       "    <tr>\n",
       "      <th>0</th>\n",
       "      <td>2023-01-04 00:00:00</td>\n",
       "      <td>Fábio</td>\n",
       "      <td>19.590000</td>\n",
       "      <td>sáb</td>\n",
       "    </tr>\n",
       "    <tr>\n",
       "      <th>1</th>\n",
       "      <td>2023-01-04 00:15:00</td>\n",
       "      <td>Fábio</td>\n",
       "      <td>19.100000</td>\n",
       "      <td>sáb</td>\n",
       "    </tr>\n",
       "    <tr>\n",
       "      <th>2</th>\n",
       "      <td>2023-01-04 00:30:00</td>\n",
       "      <td>Fábio</td>\n",
       "      <td>19.140000</td>\n",
       "      <td>sáb</td>\n",
       "    </tr>\n",
       "    <tr>\n",
       "      <th>3</th>\n",
       "      <td>2023-01-04 00:45:00</td>\n",
       "      <td>Fábio</td>\n",
       "      <td>18.550000</td>\n",
       "      <td>sáb</td>\n",
       "    </tr>\n",
       "    <tr>\n",
       "      <th>4</th>\n",
       "      <td>2023-01-04 01:00:00</td>\n",
       "      <td>Fábio</td>\n",
       "      <td>23.206384</td>\n",
       "      <td>sáb</td>\n",
       "    </tr>\n",
       "  </tbody>\n",
       "</table>\n",
       "</div>"
      ],
      "text/plain": [
       "                 data responsável  temperatura dia das semanas\n",
       "0 2023-01-04 00:00:00       Fábio    19.590000             sáb\n",
       "1 2023-01-04 00:15:00       Fábio    19.100000             sáb\n",
       "2 2023-01-04 00:30:00       Fábio    19.140000             sáb\n",
       "3 2023-01-04 00:45:00       Fábio    18.550000             sáb\n",
       "4 2023-01-04 01:00:00       Fábio    23.206384             sáb"
      ]
     },
     "execution_count": 399,
     "metadata": {},
     "output_type": "execute_result"
    }
   ],
   "source": [
    "df.head()"
   ]
  },
  {
   "cell_type": "markdown",
   "id": "4e9b8977",
   "metadata": {},
   "source": [
    "Podemos ver que a data foi convertida pro formato datetime. Também foi necessário armazenar as variáveis de dias da semana numa coluna a mais."
   ]
  },
  {
   "cell_type": "markdown",
   "id": "459f3953",
   "metadata": {},
   "source": [
    "### Gráfico da temperatura em função do tempo"
   ]
  },
  {
   "cell_type": "code",
   "execution_count": 400,
   "id": "21e65f93",
   "metadata": {},
   "outputs": [],
   "source": [
    "df['data'] = df['data'].dt.strftime(\"%d/%m/%Y, %H:%M:%S\")"
   ]
  },
  {
   "cell_type": "code",
   "execution_count": 401,
   "id": "350ca386",
   "metadata": {},
   "outputs": [
    {
     "name": "stdout",
     "output_type": "stream",
     "text": [
      "<class 'pandas.core.frame.DataFrame'>\n",
      "RangeIndex: 2880 entries, 0 to 2879\n",
      "Data columns (total 4 columns):\n",
      " #   Column           Non-Null Count  Dtype  \n",
      "---  ------           --------------  -----  \n",
      " 0   data             2880 non-null   object \n",
      " 1   responsável      2880 non-null   object \n",
      " 2   temperatura      2880 non-null   float64\n",
      " 3   dia das semanas  2880 non-null   object \n",
      "dtypes: float64(1), object(3)\n",
      "memory usage: 90.1+ KB\n"
     ]
    }
   ],
   "source": [
    "df.info()"
   ]
  },
  {
   "cell_type": "code",
   "execution_count": 402,
   "id": "43de9096",
   "metadata": {},
   "outputs": [
    {
     "name": "stdout",
     "output_type": "stream",
     "text": [
      "['04/01/2023, 00:00:00' '04/01/2023, 00:15:00' '04/01/2023, 00:30:00' ...\n",
      " '30/04/2023, 23:15:00' '30/04/2023, 23:30:00' '30/04/2023, 23:45:00']\n",
      "[19.59 19.1  19.14 ... 19.43 19.25 19.24]\n"
     ]
    }
   ],
   "source": [
    "timeseries = np.array(df['data'])\n",
    "temp = np.array(df['temperatura'])\n",
    "print(timeseries)\n",
    "print(temp)"
   ]
  },
  {
   "cell_type": "code",
   "execution_count": 588,
   "id": "2a0be73d",
   "metadata": {},
   "outputs": [
    {
     "data": {
      "text/plain": [
       "<AxesSubplot:>"
      ]
     },
     "execution_count": 588,
     "metadata": {},
     "output_type": "execute_result"
    },
    {
     "data": {
      "image/png": "[encoded data removed]",
      "text/plain": [
       "<Figure size 864x576 with 1 Axes>"
      ]
     },
     "metadata": {},
     "output_type": "display_data"
    }
   ],
   "source": [
    "sns.set_theme(style=\"darkgrid\")\n",
    "plt.figure(figsize=(12,8))\n",
    "sns.lineplot(x = timeseries, y = temp)"
   ]
  },
  {
   "cell_type": "markdown",
   "id": "87cdb73f",
   "metadata": {},
   "source": [
    "De acordo com o gráfico, as temperaturas ao longo do mês Abril apresentam uma alta oscilação, com a temperatura máxima e mínima variando ao longo do mês, mas dentro de um limite. O gráfico representa a variação de temperatura na primavera."
   ]
  },
  {
   "cell_type": "code",
   "execution_count": 404,
   "id": "12321c16",
   "metadata": {},
   "outputs": [
    {
     "name": "stdout",
     "output_type": "stream",
     "text": [
      "<class 'pandas.core.frame.DataFrame'>\n",
      "RangeIndex: 2880 entries, 0 to 2879\n",
      "Data columns (total 4 columns):\n",
      " #   Column           Non-Null Count  Dtype  \n",
      "---  ------           --------------  -----  \n",
      " 0   data             2880 non-null   object \n",
      " 1   responsável      2880 non-null   object \n",
      " 2   temperatura      2880 non-null   float64\n",
      " 3   dia das semanas  2880 non-null   object \n",
      "dtypes: float64(1), object(3)\n",
      "memory usage: 90.1+ KB\n"
     ]
    }
   ],
   "source": [
    "df.info()"
   ]
  },
  {
   "cell_type": "markdown",
   "id": "c3ed0bc5",
   "metadata": {},
   "source": [
    "## Gráfico por assistente"
   ]
  },
  {
   "cell_type": "markdown",
   "id": "aa651b7d",
   "metadata": {},
   "source": [
    "Vamos analisar as amostra de cada assistente do grupo.\n"
   ]
  },
  {
   "cell_type": "code",
   "execution_count": 405,
   "id": "81555cdd",
   "metadata": {},
   "outputs": [
    {
     "data": {
      "text/plain": [
       "array(['Fábio', 'Fernando', 'Júlia', 'Letícia', 'Marcela', 'Rafael'],\n",
       "      dtype=object)"
      ]
     },
     "execution_count": 405,
     "metadata": {},
     "output_type": "execute_result"
    }
   ],
   "source": [
    "df['responsável'].unique()"
   ]
  },
  {
   "cell_type": "code",
   "execution_count": 406,
   "id": "82e75ee0",
   "metadata": {},
   "outputs": [
    {
     "data": {
      "text/plain": [
       "pandas.core.series.Series"
      ]
     },
     "execution_count": 406,
     "metadata": {},
     "output_type": "execute_result"
    }
   ],
   "source": [
    "type(df['data'])"
   ]
  },
  {
   "cell_type": "markdown",
   "id": "c019fa5f",
   "metadata": {},
   "source": [
    "### Responsável: Fábio"
   ]
  },
  {
   "cell_type": "code",
   "execution_count": 407,
   "id": "1c9f7433",
   "metadata": {},
   "outputs": [],
   "source": [
    "resp= df[df['responsável'] == 'Fábio']"
   ]
  },
  {
   "cell_type": "code",
   "execution_count": 408,
   "id": "750cc95c",
   "metadata": {},
   "outputs": [],
   "source": [
    "timeseries = np.array(resp['data'])\n",
    "temp = np.array(resp_fabio['temperatura'])"
   ]
  },
  {
   "cell_type": "code",
   "execution_count": 409,
   "id": "31ca3302",
   "metadata": {},
   "outputs": [
    {
     "data": {
      "text/plain": [
       "<AxesSubplot:>"
      ]
     },
     "execution_count": 409,
     "metadata": {},
     "output_type": "execute_result"
    },
    {
     "data": {
      "image/png": "[encoded data removed]",
      "text/plain": [
       "<Figure size 360x360 with 1 Axes>"
      ]
     },
     "metadata": {},
     "output_type": "display_data"
    }
   ],
   "source": [
    "sns.set_theme(style=\"darkgrid\")\n",
    "plt.figure(figsize=(5,5))\n",
    "sns.lineplot(x = timeseries, y = temp)"
   ]
  },
  {
   "cell_type": "markdown",
   "id": "32157a96",
   "metadata": {},
   "source": [
    "### Responsável: Fernando"
   ]
  },
  {
   "cell_type": "code",
   "execution_count": 410,
   "id": "7c9523f5",
   "metadata": {},
   "outputs": [
    {
     "data": {
      "text/plain": [
       "<AxesSubplot:>"
      ]
     },
     "execution_count": 410,
     "metadata": {},
     "output_type": "execute_result"
    },
    {
     "data": {
      "image/png": "[encoded data removed]",
      "text/plain": [
       "<Figure size 360x360 with 1 Axes>"
      ]
     },
     "metadata": {},
     "output_type": "display_data"
    }
   ],
   "source": [
    "resp = df[df['responsável'] == 'Fernando']\n",
    "timeseries = np.array(resp['data'])\n",
    "temp = np.array(resp['temperatura'])\n",
    "sns.set_theme(style=\"darkgrid\")\n",
    "plt.figure(figsize=(5,5))\n",
    "sns.lineplot(x = timeseries, y = temp)\n"
   ]
  },
  {
   "cell_type": "markdown",
   "id": "131119c2",
   "metadata": {},
   "source": [
    "### Júlia"
   ]
  },
  {
   "cell_type": "code",
   "execution_count": 411,
   "id": "0f9f834c",
   "metadata": {},
   "outputs": [
    {
     "data": {
      "text/plain": [
       "<AxesSubplot:>"
      ]
     },
     "execution_count": 411,
     "metadata": {},
     "output_type": "execute_result"
    },
    {
     "data": {
      "image/png": "[encoded data removed]",
      "text/plain": [
       "<Figure size 360x360 with 1 Axes>"
      ]
     },
     "metadata": {},
     "output_type": "display_data"
    }
   ],
   "source": [
    "resp = df[df['responsável'] == 'Júlia']\n",
    "timeseries = np.array(resp['data'])\n",
    "temp = np.array(resp['temperatura'])\n",
    "sns.set_theme(style=\"darkgrid\")\n",
    "plt.figure(figsize=(5,5))\n",
    "sns.lineplot(x = timeseries, y = temp)"
   ]
  },
  {
   "cell_type": "markdown",
   "id": "e416a08e",
   "metadata": {},
   "source": [
    "### Letíca"
   ]
  },
  {
   "cell_type": "code",
   "execution_count": 412,
   "id": "c5d26131",
   "metadata": {},
   "outputs": [
    {
     "data": {
      "text/plain": [
       "<AxesSubplot:>"
      ]
     },
     "execution_count": 412,
     "metadata": {},
     "output_type": "execute_result"
    },
    {
     "data": {
      "image/png": "[encoded data removed]",
      "text/plain": [
       "<Figure size 360x360 with 1 Axes>"
      ]
     },
     "metadata": {},
     "output_type": "display_data"
    }
   ],
   "source": [
    "resp = df[df['responsável'] == 'Letícia']\n",
    "timeseries = np.array(resp['data'])\n",
    "temp = np.array(resp['temperatura'])\n",
    "sns.set_theme(style=\"darkgrid\")\n",
    "plt.figure(figsize=(5,5))\n",
    "sns.lineplot(x = timeseries, y = temp)"
   ]
  },
  {
   "cell_type": "markdown",
   "id": "2ea8f42e",
   "metadata": {},
   "source": [
    "### Marcela"
   ]
  },
  {
   "cell_type": "code",
   "execution_count": 413,
   "id": "9d23b905",
   "metadata": {},
   "outputs": [
    {
     "data": {
      "text/plain": [
       "<AxesSubplot:>"
      ]
     },
     "execution_count": 413,
     "metadata": {},
     "output_type": "execute_result"
    },
    {
     "data": {
      "image/png": "[encoded data removed]",
      "text/plain": [
       "<Figure size 360x360 with 1 Axes>"
      ]
     },
     "metadata": {},
     "output_type": "display_data"
    }
   ],
   "source": [
    "resp = df[df['responsável'] == 'Marcela']\n",
    "timeseries = np.array(resp['data'])\n",
    "temp = np.array(resp['temperatura'])\n",
    "sns.set_theme(style=\"darkgrid\")\n",
    "plt.figure(figsize=(5,5))\n",
    "sns.lineplot(x = timeseries, y = temp)"
   ]
  },
  {
   "cell_type": "markdown",
   "id": "6b999ba7",
   "metadata": {},
   "source": [
    "### Rafael"
   ]
  },
  {
   "cell_type": "code",
   "execution_count": 414,
   "id": "5220d8a1",
   "metadata": {},
   "outputs": [
    {
     "data": {
      "text/plain": [
       "<AxesSubplot:>"
      ]
     },
     "execution_count": 414,
     "metadata": {},
     "output_type": "execute_result"
    },
    {
     "data": {
      "image/png": "[encoded data removed]",
      "text/plain": [
       "<Figure size 360x360 with 1 Axes>"
      ]
     },
     "metadata": {},
     "output_type": "display_data"
    }
   ],
   "source": [
    "resp = df[df['responsável'] == 'Rafael']\n",
    "timeseries = np.array(resp['data'])\n",
    "temp = np.array(resp['temperatura'])\n",
    "sns.set_theme(style=\"darkgrid\")\n",
    "plt.figure(figsize=(5,5))\n",
    "sns.lineplot(x = timeseries, y = temp)"
   ]
  },
  {
   "cell_type": "markdown",
   "id": "8837699e",
   "metadata": {},
   "source": [
    "***Analisando os gráficos acima, é possível observar que o gráfico apresentado pela Letíca possui uma discrepância de valores máximos e mínimos em relação aos outros gráficos. Enquanto a maioria dos gráficos possuem valores máximos e mínimos em 30 e 18, respectivamente, o dela possui entre 26 e 16."
   ]
  },
  {
   "cell_type": "markdown",
   "id": "7830bac6",
   "metadata": {},
   "source": [
    "## Quarta-feira mais fria do mês"
   ]
  },
  {
   "cell_type": "code",
   "execution_count": 415,
   "id": "891afe22",
   "metadata": {},
   "outputs": [],
   "source": [
    "quarta = df[df['dia das semanas'] == 'qua']"
   ]
  },
  {
   "cell_type": "code",
   "execution_count": 416,
   "id": "ff340f2a",
   "metadata": {},
   "outputs": [
    {
     "data": {
      "text/plain": [
       "data               26/04/2023, 03:30:00\n",
       "responsável                       Fábio\n",
       "temperatura                        15.8\n",
       "dia das semanas                     qua\n",
       "Name: 2414, dtype: object"
      ]
     },
     "execution_count": 416,
     "metadata": {},
     "output_type": "execute_result"
    }
   ],
   "source": [
    "quarta.loc[quarta['temperatura'].idxmin()]"
   ]
  },
  {
   "cell_type": "code",
   "execution_count": 417,
   "id": "7c911460",
   "metadata": {},
   "outputs": [
    {
     "data": {
      "text/plain": [
       "<AxesSubplot:>"
      ]
     },
     "execution_count": 417,
     "metadata": {},
     "output_type": "execute_result"
    },
    {
     "data": {
      "image/png": "[encoded data removed]",
      "text/plain": [
       "<Figure size 360x360 with 1 Axes>"
      ]
     },
     "metadata": {},
     "output_type": "display_data"
    }
   ],
   "source": [
    "timeseries = np.array(quarta['data'])\n",
    "temp = np.array(quarta['temperatura'])\n",
    "sns.set_theme(style=\"darkgrid\")\n",
    "plt.figure(figsize=(5,5))\n",
    "sns.lineplot(x = timeseries, y = temp)"
   ]
  },
  {
   "cell_type": "markdown",
   "id": "070b715b",
   "metadata": {},
   "source": [
    "### Temperaturas máximas e mínimas ao longo do mês"
   ]
  },
  {
   "cell_type": "code",
   "execution_count": 560,
   "id": "86b32099",
   "metadata": {},
   "outputs": [],
   "source": [
    "df['data'] = pd.to_datetime(df['data'], format='%d/%m/%Y, %H:%M:%S')"
   ]
  },
  {
   "cell_type": "code",
   "execution_count": 566,
   "id": "9463168d",
   "metadata": {},
   "outputs": [],
   "source": [
    "dias = np.arange(0,30,1)\n",
    "tf = pd.DataFrame({'Dias': dias})"
   ]
  },
  {
   "cell_type": "code",
   "execution_count": 567,
   "id": "72fb780b",
   "metadata": {},
   "outputs": [],
   "source": [
    "max_df  = df.loc[df.groupby(df['data'].dt.normalize())['temperatura'].idxmax().values]\n",
    "min_df  = df.loc[df.groupby(df['data'].dt.normalize())['temperatura'].idxmin().values]\n",
    "maxs = np.array(max_df['temperatura'])\n",
    "mins = np.array(min_df['temperatura'])"
   ]
  },
  {
   "cell_type": "code",
   "execution_count": 568,
   "id": "16078d34",
   "metadata": {},
   "outputs": [],
   "source": [
    "tf['T.max'] = maxs\n",
    "tf['T.min'] = mins"
   ]
  },
  {
   "cell_type": "code",
   "execution_count": 569,
   "id": "5ecd520f",
   "metadata": {},
   "outputs": [
    {
     "data": {
      "text/html": [
       "<div>\n",
       "<style scoped>\n",
       "    .dataframe tbody tr th:only-of-type {\n",
       "        vertical-align: middle;\n",
       "    }\n",
       "\n",
       "    .dataframe tbody tr th {\n",
       "        vertical-align: top;\n",
       "    }\n",
       "\n",
       "    .dataframe thead th {\n",
       "        text-align: right;\n",
       "    }\n",
       "</style>\n",
       "<table border=\"1\" class=\"dataframe\">\n",
       "  <thead>\n",
       "    <tr style=\"text-align: right;\">\n",
       "      <th></th>\n",
       "      <th>Dias</th>\n",
       "      <th>T.max</th>\n",
       "      <th>T.min</th>\n",
       "    </tr>\n",
       "  </thead>\n",
       "  <tbody>\n",
       "    <tr>\n",
       "      <th>0</th>\n",
       "      <td>0</td>\n",
       "      <td>27.30</td>\n",
       "      <td>16.91</td>\n",
       "    </tr>\n",
       "    <tr>\n",
       "      <th>1</th>\n",
       "      <td>1</td>\n",
       "      <td>26.28</td>\n",
       "      <td>17.77</td>\n",
       "    </tr>\n",
       "    <tr>\n",
       "      <th>2</th>\n",
       "      <td>2</td>\n",
       "      <td>26.39</td>\n",
       "      <td>19.81</td>\n",
       "    </tr>\n",
       "    <tr>\n",
       "      <th>3</th>\n",
       "      <td>3</td>\n",
       "      <td>29.02</td>\n",
       "      <td>20.57</td>\n",
       "    </tr>\n",
       "    <tr>\n",
       "      <th>4</th>\n",
       "      <td>4</td>\n",
       "      <td>31.20</td>\n",
       "      <td>20.49</td>\n",
       "    </tr>\n",
       "    <tr>\n",
       "      <th>5</th>\n",
       "      <td>5</td>\n",
       "      <td>29.41</td>\n",
       "      <td>22.80</td>\n",
       "    </tr>\n",
       "    <tr>\n",
       "      <th>6</th>\n",
       "      <td>6</td>\n",
       "      <td>30.26</td>\n",
       "      <td>21.76</td>\n",
       "    </tr>\n",
       "    <tr>\n",
       "      <th>7</th>\n",
       "      <td>7</td>\n",
       "      <td>27.10</td>\n",
       "      <td>20.72</td>\n",
       "    </tr>\n",
       "    <tr>\n",
       "      <th>8</th>\n",
       "      <td>8</td>\n",
       "      <td>30.11</td>\n",
       "      <td>21.69</td>\n",
       "    </tr>\n",
       "    <tr>\n",
       "      <th>9</th>\n",
       "      <td>9</td>\n",
       "      <td>27.07</td>\n",
       "      <td>20.88</td>\n",
       "    </tr>\n",
       "    <tr>\n",
       "      <th>10</th>\n",
       "      <td>10</td>\n",
       "      <td>27.18</td>\n",
       "      <td>16.77</td>\n",
       "    </tr>\n",
       "    <tr>\n",
       "      <th>11</th>\n",
       "      <td>11</td>\n",
       "      <td>26.15</td>\n",
       "      <td>17.56</td>\n",
       "    </tr>\n",
       "    <tr>\n",
       "      <th>12</th>\n",
       "      <td>12</td>\n",
       "      <td>29.06</td>\n",
       "      <td>18.69</td>\n",
       "    </tr>\n",
       "    <tr>\n",
       "      <th>13</th>\n",
       "      <td>13</td>\n",
       "      <td>25.27</td>\n",
       "      <td>17.73</td>\n",
       "    </tr>\n",
       "    <tr>\n",
       "      <th>14</th>\n",
       "      <td>14</td>\n",
       "      <td>26.40</td>\n",
       "      <td>15.84</td>\n",
       "    </tr>\n",
       "    <tr>\n",
       "      <th>15</th>\n",
       "      <td>15</td>\n",
       "      <td>25.62</td>\n",
       "      <td>16.84</td>\n",
       "    </tr>\n",
       "    <tr>\n",
       "      <th>16</th>\n",
       "      <td>16</td>\n",
       "      <td>26.31</td>\n",
       "      <td>17.94</td>\n",
       "    </tr>\n",
       "    <tr>\n",
       "      <th>17</th>\n",
       "      <td>17</td>\n",
       "      <td>24.20</td>\n",
       "      <td>15.80</td>\n",
       "    </tr>\n",
       "    <tr>\n",
       "      <th>18</th>\n",
       "      <td>18</td>\n",
       "      <td>24.26</td>\n",
       "      <td>15.81</td>\n",
       "    </tr>\n",
       "    <tr>\n",
       "      <th>19</th>\n",
       "      <td>19</td>\n",
       "      <td>27.23</td>\n",
       "      <td>16.64</td>\n",
       "    </tr>\n",
       "    <tr>\n",
       "      <th>20</th>\n",
       "      <td>20</td>\n",
       "      <td>26.38</td>\n",
       "      <td>15.92</td>\n",
       "    </tr>\n",
       "    <tr>\n",
       "      <th>21</th>\n",
       "      <td>21</td>\n",
       "      <td>25.31</td>\n",
       "      <td>16.86</td>\n",
       "    </tr>\n",
       "    <tr>\n",
       "      <th>22</th>\n",
       "      <td>22</td>\n",
       "      <td>26.23</td>\n",
       "      <td>19.94</td>\n",
       "    </tr>\n",
       "    <tr>\n",
       "      <th>23</th>\n",
       "      <td>23</td>\n",
       "      <td>30.27</td>\n",
       "      <td>19.78</td>\n",
       "    </tr>\n",
       "    <tr>\n",
       "      <th>24</th>\n",
       "      <td>24</td>\n",
       "      <td>28.58</td>\n",
       "      <td>21.71</td>\n",
       "    </tr>\n",
       "    <tr>\n",
       "      <th>25</th>\n",
       "      <td>25</td>\n",
       "      <td>29.40</td>\n",
       "      <td>18.91</td>\n",
       "    </tr>\n",
       "    <tr>\n",
       "      <th>26</th>\n",
       "      <td>26</td>\n",
       "      <td>27.29</td>\n",
       "      <td>20.47</td>\n",
       "    </tr>\n",
       "    <tr>\n",
       "      <th>27</th>\n",
       "      <td>27</td>\n",
       "      <td>27.04</td>\n",
       "      <td>20.44</td>\n",
       "    </tr>\n",
       "    <tr>\n",
       "      <th>28</th>\n",
       "      <td>28</td>\n",
       "      <td>28.15</td>\n",
       "      <td>21.77</td>\n",
       "    </tr>\n",
       "    <tr>\n",
       "      <th>29</th>\n",
       "      <td>29</td>\n",
       "      <td>29.24</td>\n",
       "      <td>22.84</td>\n",
       "    </tr>\n",
       "  </tbody>\n",
       "</table>\n",
       "</div>"
      ],
      "text/plain": [
       "    Dias  T.max  T.min\n",
       "0      0  27.30  16.91\n",
       "1      1  26.28  17.77\n",
       "2      2  26.39  19.81\n",
       "3      3  29.02  20.57\n",
       "4      4  31.20  20.49\n",
       "5      5  29.41  22.80\n",
       "6      6  30.26  21.76\n",
       "7      7  27.10  20.72\n",
       "8      8  30.11  21.69\n",
       "9      9  27.07  20.88\n",
       "10    10  27.18  16.77\n",
       "11    11  26.15  17.56\n",
       "12    12  29.06  18.69\n",
       "13    13  25.27  17.73\n",
       "14    14  26.40  15.84\n",
       "15    15  25.62  16.84\n",
       "16    16  26.31  17.94\n",
       "17    17  24.20  15.80\n",
       "18    18  24.26  15.81\n",
       "19    19  27.23  16.64\n",
       "20    20  26.38  15.92\n",
       "21    21  25.31  16.86\n",
       "22    22  26.23  19.94\n",
       "23    23  30.27  19.78\n",
       "24    24  28.58  21.71\n",
       "25    25  29.40  18.91\n",
       "26    26  27.29  20.47\n",
       "27    27  27.04  20.44\n",
       "28    28  28.15  21.77\n",
       "29    29  29.24  22.84"
      ]
     },
     "execution_count": 569,
     "metadata": {},
     "output_type": "execute_result"
    }
   ],
   "source": [
    "tf.head(30)"
   ]
  },
  {
   "cell_type": "code",
   "execution_count": null,
   "id": "b961b357",
   "metadata": {},
   "outputs": [],
   "source": [
    "sns.set_theme(style=\"darkgrid\")"
   ]
  },
  {
   "cell_type": "code",
   "execution_count": 587,
   "id": "89da3679",
   "metadata": {},
   "outputs": [
    {
     "data": {
      "text/plain": [
       "<matplotlib.lines.Line2D at 0x223ce04ad00>"
      ]
     },
     "execution_count": 587,
     "metadata": {},
     "output_type": "execute_result"
    },
    {
     "data": {
      "image/png": "[encoded data removed]",
      "text/plain": [
       "<Figure size 720x576 with 1 Axes>"
      ]
     },
     "metadata": {},
     "output_type": "display_data"
    }
   ],
   "source": [
    "tf.plot(x = \"Dias\", y = [\"T.max\",\"T.min\"], figsize=(10, 8))\n",
    "tmax_mean = tf['T.max'].mean()\n",
    "tmin_mean = tf['T.min'].mean()\n",
    "plt.axhline(y = tmax_mean, color =\"green\", linestyle =\"--\")\n",
    "plt.axhline(y = tmin_mean, color =\"green\", linestyle =\"--\")"
   ]
  },
  {
   "cell_type": "code",
   "execution_count": null,
   "id": "7ed1dee6",
   "metadata": {},
   "outputs": [],
   "source": []
  }
 ],
 "metadata": {
  "kernelspec": {
   "display_name": "Python 3 (ipykernel)",
   "language": "python",
   "name": "python3"
  },
  "language_info": {
   "codemirror_mode": {
    "name": "ipython",
    "version": 3
   },
   "file_extension": ".py",
   "mimetype": "text/x-python",
   "name": "python",
   "nbconvert_exporter": "python",
   "pygments_lexer": "ipython3",
   "version": "3.9.7"
  }
 },
 "nbformat": 4,
 "nbformat_minor": 5
}
